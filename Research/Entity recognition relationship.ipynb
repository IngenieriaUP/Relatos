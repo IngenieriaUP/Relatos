{
 "cells": [
  {
   "cell_type": "markdown",
   "metadata": {},
   "source": [
    "# Notebook  de Relaciones de entidades"
   ]
  },
  {
   "cell_type": "markdown",
   "metadata": {},
   "source": [
    "1. Preprocesar la data"
   ]
  },
  {
   "cell_type": "code",
   "execution_count": 1,
   "metadata": {},
   "outputs": [],
   "source": [
    "import spacy\n",
    "from collections import Counter\n",
    "import pandas as pd\n",
    "import re\n",
    "import unidecode\n",
    "from nltk.tokenize import sent_tokenize,word_tokenize\n",
    "from tqdm import tqdm\n",
    "nlp =spacy.load('es_core_news_md')"
   ]
  },
  {
   "cell_type": "code",
   "execution_count": 2,
   "metadata": {},
   "outputs": [],
   "source": [
    "#Preprocesamiento de las oraciones\n",
    "def trans(text):\n",
    "    temp=text.split(' ')\n",
    "    for k,i in enumerate(temp):\n",
    "        i=re.sub(r'[“”´!?¡¿]*','',i)\n",
    "        i=re.sub(r'[0-9]*','',i)\n",
    "        #i=unidecode.unidecode(i)\n",
    "        #print(i)\n",
    "        if i.isupper():\n",
    "            if i=='DE' or i=='LA'or i=='DEL' or i=='EL':\n",
    "                i=i.lower()\n",
    "            firstl=i[0]\n",
    "            otros=''\n",
    "            for j in range(1,len(i)):\n",
    "                otros=otros+i[j].lower()\n",
    "            palabra=firstl+otros\n",
    "            #if palabra.lower() in stop_words:\n",
    "            #    palabra=''\n",
    "            temp[k]=palabra\n",
    "        else:\n",
    "            #if i.lower() in stop_words:\n",
    "            #   i=''\n",
    "            temp[k]=i\n",
    "    prueba=' '.join(temp)\n",
    "    return prueba \n",
    "    #print(prueba)     "
   ]
  },
  {
   "cell_type": "code",
   "execution_count": 3,
   "metadata": {},
   "outputs": [],
   "source": [
    "def hallarr(listaent):\n",
    "    # se separa las personas y locaciones\n",
    "    persona=[]\n",
    "    ubicacion=[]\n",
    "    listafinal=[] #se almacena la locacion y las personas que pertenecen a la misma oracion\n",
    "    for i in listaent:\n",
    "        if i.label_=='PER':\n",
    "            persona.append(i)\n",
    "        if i.label_=='LOC':\n",
    "            ubicacion.append(i)\n",
    "    # se extrae las locaciones y personas que pertenecen a una misma oracion\n",
    "    for j in ubicacion:\n",
    "        listemporal=[] #lista temporal \n",
    "        listemporal.append(j)\n",
    "        for i in persona:\n",
    "            if str(j.doc)==str(i.doc):\n",
    "                listemporal.append(i)\n",
    "        if len(listemporal)>1:\n",
    "            listafinal.append(listemporal)\n",
    "    # Obtener lista unica de personas y locaciones :v\n",
    "    persona2=[]\n",
    "    ubicacion2=[]\n",
    "    for i in persona:\n",
    "        persona2.append(i.text)\n",
    "    for j in ubicacion:\n",
    "        ubicacion2.append(j.text)\n",
    "    persona2=list(set(persona2))\n",
    "    ubicacion2=list(set(ubicacion2))       \n",
    "    # Unir las locaciones repetidas\n",
    "    listafinalv2=[]\n",
    "    listaperf=[]\n",
    "    for  i in ubicacion2:\n",
    "        #listatr=[]\n",
    "        listatr=i\n",
    "        listperl=[]\n",
    "        for j in listafinal:\n",
    "            if j!=[]:\n",
    "                if i==str(j[0]):\n",
    "                    j.pop(0)\n",
    "                    listperl.extend(j)\n",
    "        listafinalv2.append(listatr)\n",
    "        listaperf.append(listperl)\n",
    "    # Unir locaciones con nombre similar\n",
    "    # Se hizo estos for para no hacer muy complejo el codigo\n",
    "    maxo=[]\n",
    "    for  i in listafinalv2:\n",
    "        listae=[]\n",
    "        for j, k in enumerate(listafinalv2):\n",
    "            tr=re.findall(i,k)\n",
    "            if tr!=[]:\n",
    "                dpro=[j]\n",
    "                if dpro in maxo:\n",
    "                    ind=maxo.index(dpro)\n",
    "                    maxo.pop(ind)\n",
    "                listae.extend(dpro)\n",
    "        maxo.append(listae)\n",
    "    pruelife=[]\n",
    "    for i in maxo:\n",
    "        temps=[]\n",
    "        perso=[]\n",
    "        for j in i:\n",
    "            temps=listafinalv2[i[0]]\n",
    "            ste=[]\n",
    "            for l in listaperf[j]:\n",
    "                ste.append(str(l)) # se usa str porque no es un string\n",
    "                ste=list(set(ste))\n",
    "            perso.extend(ste)\n",
    "            perso=list(set(perso))\n",
    "        pruelife.append((temps,perso))\n",
    "    # se retorna la lista con las locaciones y sus personas y las lista unicas\n",
    "    return pruelife, ubicacion2, persona2"
   ]
  },
  {
   "cell_type": "code",
   "execution_count": 4,
   "metadata": {},
   "outputs": [],
   "source": [
    "def listadep6(lisg,doc):\n",
    "    oracion6=re.sub(r'[,;:.]+','',str(doc))\n",
    "    porlo=word_tokenize(oracion6)\n",
    "    for i in lisg:\n",
    "        dela=word_tokenize(str(i))\n",
    "        listapro=[]\n",
    "        #print(dela)\n",
    "        #print(lisg[0].sent)\n",
    "        for l in dela:\n",
    "            for p,k in enumerate(porlo):\n",
    "                if l==k:\n",
    "                    listapro.append(p)\n",
    "        listapro=list(set(listapro))\n",
    "        listapro2=[]\n",
    "        for l in listapro:\n",
    "            count=0\n",
    "            for k in listapro:\n",
    "                if abs(l-k)<len(dela):\n",
    "                    count=count+1\n",
    "            if count==len(dela):\n",
    "                listapro2.append(l)\n",
    "        if listapro2!=[]:\n",
    "            lp=listapro2[len(listapro2)-1]\n",
    "            texto=''\n",
    "            texto=str(i)\n",
    "            texto=texto.strip()\n",
    "            porlo[lp]=texto\n",
    "            for l in range(len(listapro2)-1):\n",
    "                listapro2[l]=lp+(l+1-len(listapro2))\n",
    "            listapro2.pop(len(listapro2)-1)\n",
    "            #print(porlo)\n",
    "            ##print(listapro)\n",
    "            listafin=[]\n",
    "            for l in range(len(porlo)):\n",
    "                if l in listapro2:\n",
    "                    pass\n",
    "                else:\n",
    "                    listafin.append(porlo[l])\n",
    "            porlo=listafin\n",
    "        #print(porlo)\n",
    "    #print(porlo)\n",
    "    return porlo"
   ]
  },
  {
   "cell_type": "code",
   "execution_count": 5,
   "metadata": {
    "scrolled": false
   },
   "outputs": [],
   "source": [
    "def listadep7(doc):\n",
    "    listaoword=[]\n",
    "    for token in doc:\n",
    "        if token.ent_type_=='':\n",
    "            a=str(token).split()\n",
    "            listaoword.extend(a)\n",
    "        else:\n",
    "            listaoword.append(str(token))\n",
    "    return listaoword\n",
    "#listadep7(per[0].doc)"
   ]
  },
  {
   "cell_type": "code",
   "execution_count": 7,
   "metadata": {},
   "outputs": [],
   "source": [
    "def proceso(listaprueba):\n",
    "    listemp=[]\n",
    "    listatuo=[]\n",
    "    listadepubi={'obj','nsubj','nmod'}\n",
    "    listadepper={'appos','nsubj','obj'}\n",
    "    for k in listaprueba:\n",
    "        k=k.replace('.','')\n",
    "        doc=nlp(k)\n",
    "        ubi=[]\n",
    "        per=[]\n",
    "        listauni=[]\n",
    "        b=list(doc.noun_chunks)\n",
    "        for noun_phrase in b:\n",
    "            noun_phrase.merge(noun_phrase.root.dep_, noun_phrase.root.lemma_, noun_phrase.root.ent_type_)\n",
    "        for token in doc:\n",
    "            if token.ent_type_=='LOC':\n",
    "                ubi.append(token)\n",
    "                listemp.append([token,listaprueba[0]])\n",
    "                listauni.append(token)\n",
    "            elif token.ent_type_=='PER':\n",
    "                per.append(token)\n",
    "                listemp.append([token,listaprueba[0]])\n",
    "                listauni.append(token)\n",
    "        if len(ubi)>0 and len(per)>0:\n",
    "            porlo=listadep7(per[0].doc)\n",
    "            for p1 in ubi:\n",
    "                for p2 in per:\n",
    "                    if p1.dep_ in listadepubi and p2.dep_ in listadepper:\n",
    "                        if abs(porlo.index(str(p1)) - porlo.index(str(p2))) <21:\n",
    "                            print(p1.dep_,p2.dep_,p1,p2)\n",
    "                            listarelat=[str(p1),str(p2),k,listaprueba[0]]\n",
    "                            listatuo.append(listarelat)\n",
    "    return listatuo, listemp"
   ]
  },
  {
   "cell_type": "code",
   "execution_count": 10,
   "metadata": {},
   "outputs": [
    {
     "name": "stderr",
     "output_type": "stream",
     "text": [
      "\r",
      "  0%|                                                                                           | 0/20 [00:00<?, ?it/s]"
     ]
    },
    {
     "name": "stdout",
     "output_type": "stream",
     "text": [
      "nmod obj Lima Taboga\n",
      "nmod obj Las Pulgas Nicolás\n",
      "nmod obj Segura Montero Pa\n",
      "nmod appos Lima José Santos\n",
      "nmod nsubj Lima zaqueo\n",
      "nmod appos la Cruz Gómez\n",
      "nmod appos la Cruz Manuela Villarán de Placencia\n",
      "nmod appos Hospicio Caramanduca caliente\n"
     ]
    },
    {
     "name": "stderr",
     "output_type": "stream",
     "text": [
      "\r",
      "  5%|████▏                                                                              | 1/20 [01:11<22:39, 71.57s/it]"
     ]
    },
    {
     "name": "stdout",
     "output_type": "stream",
     "text": [
      "nmod appos Hospicio Rafael Ramírez\n",
      "nsubj appos el General iglesista Rafael Ramírez\n",
      "nmod appos la calle Rafael Ramírez\n",
      "nmod appos la Amargura Rafael Ramírez\n",
      "nmod appos Moquegua Jlt\n",
      "nmod nsubj la Higuera Luis Freundt\n",
      "nmod appos la Higuera Francisca Diez Canseco de Castilla\n",
      "nmod nsubj Lombardo Andrés Avelino Aramburú\n",
      "nmod appos Bravo el Alemán\n",
      "nmod appos Denegrí Sarah Bernhardt\n"
     ]
    },
    {
     "name": "stderr",
     "output_type": "stream",
     "text": [
      "\r",
      " 10%|████████▎                                                                          | 2/20 [02:30<22:10, 73.91s/it]"
     ]
    },
    {
     "name": "stdout",
     "output_type": "stream",
     "text": [
      "nmod appos Gallinacitos Nicoletti\n",
      "nmod appos San Carlos Nicoletti\n",
      "nmod appos Melchormalo Emilio Gutiérrez d Quintanilla\n",
      "obj appos la gruta Pedro González Candamo\n",
      "nmod appos Lourdes Pedro González Candamo\n",
      "nmod appos colegio Pedro González Candamo\n",
      "nmod appos Santa Rosa Pedro González Candamo\n",
      "nmod appos el Perú Pedro González Candamo\n",
      "nmod nsubj Guadalupe Gregorio Siguas\n",
      "nmod appos Guadalupe Durán\n",
      "nmod appos San Carlos José Manuel Barrenechea y Morales García de la Plata casa de zaguán empedrado\n",
      "nmod nsubj Callao Don José Manuel\n",
      "obj nsubj el Perú el Almirante inglés Yes\n",
      "obj nsubj el Perú Piérola\n",
      "nmod obj Guadalupe Biedma\n",
      "nmod appos Guadalupe Juan Nepomuceno Vargas\n",
      "nmod nsubj Guadalupe misia\n",
      "nmod appos Guadalupe Jesús Bravo\n"
     ]
    },
    {
     "name": "stderr",
     "output_type": "stream",
     "text": [
      "\r",
      " 15%|████████████▍                                                                      | 3/20 [03:58<22:03, 77.86s/it]"
     ]
    },
    {
     "name": "stdout",
     "output_type": "stream",
     "text": [
      "nmod nsubj Cajamarca Carmen\n",
      "nmod obj General don Luis La Puerta Napoleón I\n",
      "nmod nsubj la Tablita Pitagórica Ruidosas\n",
      "nmod appos la Tablita Pitagórica Pedro Antonio Varela\n"
     ]
    },
    {
     "name": "stderr",
     "output_type": "stream",
     "text": [
      "\r",
      " 20%|████████████████▌                                                                  | 4/20 [05:14<20:38, 77.38s/it]"
     ]
    },
    {
     "name": "stdout",
     "output_type": "stream",
     "text": [
      "nmod nsubj San Miguel de Hijar José Brondi encuaderna libros\n",
      "nmod nsubj Rusia José Brondi encuaderna libros\n",
      "nsubj nsubj todo San Pedro Manuel María\n",
      "nsubj nsubj todo San Pedro Pichón de Avestruz\n",
      "nmod nsubj la Alameda Felipe Barreda\n",
      "nmod nsubj la Palma Felipe Barreda\n"
     ]
    },
    {
     "name": "stderr",
     "output_type": "stream",
     "text": [
      "\r",
      " 25%|████████████████████▊                                                              | 5/20 [06:59<21:26, 85.75s/it]"
     ]
    },
    {
     "name": "stdout",
     "output_type": "stream",
     "text": [
      "nsubj appos El Puente de piedra Juan de Mendoza\n",
      "nsubj appos El Puente de piedra Marqués de Montesclaros\n",
      "nmod appos el rio Juan de Mendoza\n",
      "nmod appos el rio Marqués de Montesclaros\n",
      "nmod nsubj Calle de San Pedro n A Gris\n",
      "nmod nsubj Callao Lemos\n",
      "nmod appos Polvos Azules Paganini\n",
      "nsubj appos Búfalo Guacamayo\n",
      "nmod nsubj Arona Carlos Germán Amézaga\n"
     ]
    },
    {
     "name": "stderr",
     "output_type": "stream",
     "text": [
      "\r",
      " 30%|████████████████████████▉                                                          | 6/20 [09:08<23:01, 98.70s/it]"
     ]
    },
    {
     "name": "stdout",
     "output_type": "stream",
     "text": [
      "nmod nsubj Europa Pedro Paz Soldán\n",
      "nmod appos la Condesa Félix Zoppi\n",
      "nsubj appos la botica Félix Zoppi\n",
      "nmod appos la Columna Félix Zoppi\n",
      "nmod obj Pacae Manuel\n",
      "nmod obj Pacae Eulogio Cavero\n",
      "nmod appos Pacae Felipe Santiago Crespo\n"
     ]
    },
    {
     "name": "stderr",
     "output_type": "stream",
     "text": [
      "\r",
      " 35%|████████████████████████████▋                                                     | 7/20 [11:18<23:25, 108.09s/it]"
     ]
    },
    {
     "name": "stdout",
     "output_type": "stream",
     "text": [
      "nmod appos la iglesuca de Monserrate Villón\n",
      "nmod appos Santuario Zavala\n",
      "nmod obj Arco Rosita\n",
      "obj nsubj Opulenta Rosita\n",
      "obj obj Opulenta José Calderón\n"
     ]
    },
    {
     "name": "stderr",
     "output_type": "stream",
     "text": [
      "\r",
      " 40%|█████████████████████████████████▏                                                 | 8/20 [12:21<18:56, 94.71s/it]"
     ]
    },
    {
     "name": "stdout",
     "output_type": "stream",
     "text": [
      "nmod nsubj la Moneda Papa Rellena\n",
      "obj appos la Plaza de Armas el doctor\n",
      "obj appos la Plaza de Armas Palma\n",
      "nmod appos Zamudio el doctor\n",
      "nmod appos Zamudio Palma\n"
     ]
    },
    {
     "name": "stderr",
     "output_type": "stream",
     "text": [
      "\r",
      " 45%|█████████████████████████████████████▎                                             | 9/20 [13:23<15:31, 84.71s/it]"
     ]
    },
    {
     "name": "stdout",
     "output_type": "stream",
     "text": [
      "nmod nsubj Nuestra Señora el Arzobispo\n",
      "nmod appos Nuestra Señora Loayza\n",
      "nmod nsubj Santa Ana el Arzobispo\n",
      "nmod appos Santa Ana Loayza\n",
      "nsubj appos Santa Ana San Fernando\n",
      "nmod appos la facultad San Fernando\n",
      "nmod appos Medicina San Fernando\n",
      "nmod obj Lima Faenza\n",
      "nmod nsubj Lima Buen Retiro\n",
      "nmod nsubj Perú Villar\n"
     ]
    },
    {
     "name": "stderr",
     "output_type": "stream",
     "text": [
      "\r",
      " 50%|█████████████████████████████████████████                                         | 10/20 [14:02<11:51, 71.17s/it]"
     ]
    },
    {
     "name": "stdout",
     "output_type": "stream",
     "text": [
      "nsubj appos CasoniFirenze Casoni\n",
      "nmod appos Piamonte Nicolás Maquiavelo\n",
      "nmod appos Piamonte Victorio Alfieri\n",
      "nmod appos Colegio de la O Pedro Drinot\n",
      "nmod obj Colegio de la O don Nico\n",
      "obj appos Panteón de Lima Matías Maestro\n"
     ]
    },
    {
     "name": "stderr",
     "output_type": "stream",
     "text": [
      "\r",
      " 55%|█████████████████████████████████████████████                                     | 11/20 [14:57<09:55, 66.21s/it]"
     ]
    },
    {
     "name": "stdout",
     "output_type": "stream",
     "text": [
      "nmod appos el Cercado maltones\n",
      "nmod appos Ingunza Matilde Olivera de Ingunza\n",
      "nmod appos Califa Richardson\n",
      "nmod appos Norte Palo Seco\n",
      "nmod nsubj Malambo Barraganes\n",
      "nmod appos Santo Justo Juez Divino Señor San Cipriano\n",
      "nsubj appos Santo Justo Juez San Cipriano\n",
      "nmod appos los Avendaño zapatilla\n",
      "nmod appos Lima zapatilla\n"
     ]
    },
    {
     "name": "stderr",
     "output_type": "stream",
     "text": [
      "\r",
      " 60%|█████████████████████████████████████████████████▏                                | 12/20 [16:23<09:35, 72.00s/it]"
     ]
    },
    {
     "name": "stdout",
     "output_type": "stream",
     "text": [
      "nmod appos Chile Mariano Felipe Paz Soldán\n",
      "nmod nsubj Pabellón Nacional don Mateo\n",
      "nmod nsubj Boza Pedro Paz Soldán\n",
      "nmod nsubj San Juan de Dios Juan de Arona\n",
      "nmod appos San Juan de Dios Dominguito Vallerriestra\n",
      "nmod appos Cipriana Dominguito Vallerriestra\n",
      "nmod nsubj Lima Don Carlos\n",
      "nmod nsubj Lima el vecino Alty\n",
      "nmod appos Lima Gaillour\n",
      "nmod nsubj Panamá misia Isabel\n",
      "nmod appos Mosaico Isabel\n",
      "nmod appos Junín José Joaquín de Olmedo\n",
      "nmod nsubj Junín Juancito\n",
      "nmod appos Junín la A\n",
      "nmod appos la Lima San Juan de Dios\n",
      "nmod appos San Juan de Dios Manuel Gálvez\n",
      "nsubj appos Micheo Manuel Gálvez\n",
      "nmod obj la Micheo Silvestre\n",
      "nmod nsubj Corral Coronel Gutiérrez\n",
      "nmod appos Corral Ceniza\n",
      "nmod appos Belén Bernardo Monteagudo\n",
      "obj obj Boza Mariano Felipe\n"
     ]
    },
    {
     "name": "stderr",
     "output_type": "stream",
     "text": [
      "\r",
      " 65%|█████████████████████████████████████████████████████▎                            | 13/20 [17:39<08:32, 73.22s/it]"
     ]
    },
    {
     "name": "stdout",
     "output_type": "stream",
     "text": [
      "nmod appos Derecho Constitucional Juan Morel de la Prada\n",
      "nmod appos la Plazuela Juan Morel de la Prada\n",
      "nmod nsubj Canaval el Padre\n",
      "nmod appos Canaval Eterno\n",
      "nmod nsubj Lima Justiniano Álvarez\n",
      "nmod appos Lima Beatriz Saavedra\n",
      "nmod appos Belén Alzamora\n",
      "nmod appos la Micheo Robles\n",
      "nmod appos la Micheo Chávez\n"
     ]
    },
    {
     "name": "stderr",
     "output_type": "stream",
     "text": [
      "\r",
      " 70%|█████████████████████████████████████████████████████████▍                        | 14/20 [18:58<07:31, 75.21s/it]"
     ]
    },
    {
     "name": "stdout",
     "output_type": "stream",
     "text": [
      "nmod nsubj Boza Manuel González de la Rosa\n",
      "nmod obj Boza Mariano Felipe\n",
      "nmod appos Belén Eufrasia\n",
      "nmod nsubj la Micheo Manuel Gálvez\n"
     ]
    },
    {
     "name": "stderr",
     "output_type": "stream",
     "text": [
      "\r",
      " 75%|█████████████████████████████████████████████████████████████▌                    | 15/20 [19:58<05:52, 70.57s/it]"
     ]
    },
    {
     "name": "stdout",
     "output_type": "stream",
     "text": [
      "nmod appos Pachas Arguedas\n",
      "nmod appos San Francisco de Paula el Nuevo Juan Luis Pacheco Céspedes\n",
      "nmod nsubj la Alameda José Valle\n",
      "nmod appos Santa Liberata Crucificado\n",
      "nmod obj Santa Liberata el Rímac\n",
      "nsubj appos La Congregación Crucificado\n",
      "nmod appos El Monserrate de Cristóbal de Virués José Manuel Bermúdez\n"
     ]
    },
    {
     "name": "stderr",
     "output_type": "stream",
     "text": [
      "\r",
      " 80%|████████████████████████████████████████████████████████████████▊                | 16/20 [25:25<09:49, 147.32s/it]"
     ]
    },
    {
     "name": "stdout",
     "output_type": "stream",
     "text": [
      "nmod appos San Agustín Scerpella\n",
      "nmod appos Lescano Scerpella\n",
      "nmod appos Viena Luis Xvi de marco\n",
      "nmod appos Petateros Cárdenas\n",
      "nmod nsubj Macacona Mora\n",
      "nmod appos Chanchamayo Jaramillo\n",
      "obj appos Lima Jaramillo\n",
      "nmod nsubj Hacienda Luis N Bryce\n",
      "nmod appos San Idelfonso Barbadillo\n",
      "nmod appos Santa Rosa Villagra\n"
     ]
    },
    {
     "name": "stderr",
     "output_type": "stream",
     "text": [
      "\r",
      " 85%|████████████████████████████████████████████████████████████████████▊            | 17/20 [26:38<06:15, 125.28s/it]"
     ]
    },
    {
     "name": "stdout",
     "output_type": "stream",
     "text": [
      "nmod nsubj San Carlos Ángel Padreschi\n",
      "nmod nsubj Hospicio misia Manonguita\n",
      "nmod nsubj San Pedro Pedro Labaure\n",
      "nmod appos San Buenaventura Durán\n",
      "nmod appos los Huérfanos Rivas\n"
     ]
    },
    {
     "name": "stderr",
     "output_type": "stream",
     "text": [
      "\r",
      " 90%|████████████████████████████████████████████████████████████████████████▉        | 18/20 [27:42<03:33, 106.87s/it]"
     ]
    },
    {
     "name": "stdout",
     "output_type": "stream",
     "text": [
      "nmod nsubj Venezuela Leocadio Guzmán\n",
      "nmod nsubj Ecuador Leocadio Guzmán\n",
      "nmod appos Febres Coronel Suarez\n",
      "nmod obj Milagro Aparicio\n",
      "nmod appos Alcalde doña\n",
      "nmod obj Alcalde María Araoz\n",
      "nmod appos Alcalde Rufino Torrico\n",
      "nmod appos Lima doña\n",
      "nmod obj Lima María Araoz\n",
      "nmod appos Lima Rufino Torrico\n",
      "nmod nsubj la cercana Capilla Lorenzo Cubillas\n",
      "nmod appos la calle Pancho Zegarra\n",
      "nmod appos Lima Pancho Zegarra\n",
      "nsubj appos el Comisario Fernández\n",
      "nmod nsubj la Veracruz Carlitos\n",
      "nmod appos Lima don\n",
      "nmod appos Lima José\n",
      "nmod nsubj Lima Pepito Gálvez\n",
      "nmod appos Norte Francisco Crosby\n",
      "nmod appos Norte Mario Arrús\n"
     ]
    },
    {
     "name": "stderr",
     "output_type": "stream",
     "text": [
      "\r",
      " 95%|████████████████████████████████████████████████████████████████████████████▉    | 19/20 [32:57<02:49, 169.16s/it]"
     ]
    },
    {
     "name": "stdout",
     "output_type": "stream",
     "text": [
      "nmod nsubj Carmen alto Mas\n",
      "nmod appos Carmen alto Borda\n",
      "nmod nsubj Tarma Figúrense\n",
      "nmod obj esta Plaza Mayor Mariacha\n",
      "nmod obj la Merced el sueco Young\n",
      "nsubj nsubj el Burdeos Palo Seco\n",
      "nmod nsubj Rin Palo Seco\n",
      "nmod appos la Magdalena Francisco Raggio\n",
      "nmod appos la Venecia José Bernales\n",
      "nmod appos la Venecia Domingo del Solar\n",
      "nmod appos la Venecia Lizardo Montero\n",
      "nmod appos la Palma Peña\n",
      "nsubj appos misia Venancia Peña\n",
      "nsubj obj misia Venancia Guichard\n",
      "nmod nsubj Ayacucho Pedro Castre\n",
      "nmod nsubj Ayacucho Angelino Chaves\n"
     ]
    },
    {
     "name": "stderr",
     "output_type": "stream",
     "text": [
      "100%|█████████████████████████████████████████████████████████████████████████████████| 20/20 [34:36<00:00, 103.82s/it]\n"
     ]
    }
   ],
   "source": [
    "#df=pd.read_excel('Prueba de relatos.xlsx')\n",
    "listatecnica=[]\n",
    "for capitulo in tqdm(range(0,20)):\n",
    "    o=df['Texto'][capitulo]\n",
    "    o=re.sub('…','...',o)\n",
    "    o=o.replace('...','.')\n",
    "    listaprueba=sent_tokenize(o)\n",
    "    for j,i in enumerate(listaprueba):\n",
    "        if j==0:\n",
    "            i=i.split('\\n')\n",
    "            i=i[0]\n",
    "        i=i.split('\\n')\n",
    "        i=' '.join(i)\n",
    "        i=trans(i)\n",
    "        listaprueba[j]=i.strip()\n",
    "    listatuo2,listatemp1=proceso(listaprueba)\n",
    "    listatecnica.extend(listatuo2)"
   ]
  },
  {
   "cell_type": "code",
   "execution_count": 11,
   "metadata": {},
   "outputs": [],
   "source": [
    "\n",
    "#nsubj appos\n",
    "#obj nsubj \n",
    "#nsubj nsubj\n",
    "#nsubj obj\n",
    "#appos nsubj\n",
    "#aposs obj\n",
    "#nmod obj\n",
    "df3=pd.DataFrame(listatecnica)"
   ]
  },
  {
   "cell_type": "code",
   "execution_count": 12,
   "metadata": {},
   "outputs": [],
   "source": [
    "df3.to_excel('relacionesconectadas3.xlsx')\n",
    "#df3=pd.read_excel('relacionesconectadas.xlsx')"
   ]
  },
  {
   "cell_type": "code",
   "execution_count": 9,
   "metadata": {},
   "outputs": [],
   "source": [
    "df=pd.read_excel('Relatos_viajes-Benvenutto.xlsx')\n"
   ]
  },
  {
   "cell_type": "code",
   "execution_count": 34,
   "metadata": {},
   "outputs": [
    {
     "data": {
      "text/plain": [
       "'LA PLACITA RECOLETANA se une a la plazuela de la Salud por el “Callejón Largo suigeneris callecita y media, formada en su lado izquierdo por una casa vieja y húmeda con zaguán y patio en forma de rampa, que sigue a la casona solariega de los Gómez Córdova, y por una hilera de tenduchos en los que se alberga gente pobre, mulatos en su mayoría.\\nEn la esquina de la Cruz hay una pulpería inevitable en todas las esquinas de nuestra ciudad propiedad de un italiano genovés de alguno de los innumerables pueblecitos de la “costa levante” o de la “ponente”, que se expresa en una jerga pintoresca empedrada de “Dio mío”, “ma”, “saprisi” y “madonna” y que en mangas de camisa o con blusa marinera comparte le trabajo de la venta y de las “yapas” con sus dependientes: dos “pichines” coloradotes y risueños.\\nComo buen garibaldino quizá uno de los mil don Bartolo ha colocado en la testera el armazón dos baratas oleografías de Víctor Manuel uniforme de general, condecoraciones rutilantes, grandes mostachos en punta y de Garibaldi roja camiseta, ancho capote, gorra inclinada para que desde allí contemplen el negocio del antiguo compañero de batallas, que liberal, franco trabajador sin tasa ni medida y amigo de lo criollo corteja perpetuamente a las buenas  mozas talladas en ébano y que acuden diariamente a su mostrador.\\nEn la acera opuesta existe una tienda muy animada, donde ha sentado sus reales un viejo zapatero remendón que se gana la vida poniendo medias suelas, tapas de taco, estaquillas y remiendos a todos los zapatos, botas o botines de la vecindad. Zambo picaresco de ascendencia “chala” o “Mozambique” y de pasado alegre, conoció en su juventud a todos los “niños” de Lima y los tuteó, mientras que hoy, entre un regaño a uno de sus numerosos hijos y una contrata de “obra”, se pasa el día canturreando al compás de los golpes de martillo coplas populares, tonderos mozasmalas:\\n“Qué bonita plaza de armas\\nTiene mi general,\\nDonde forma el ejército\\nY el general Colás.\\nColás, Colás\\nMe miras y te vas,\\nPero no me dices\\nCuando volverás”\\n“ Si quieres comer iguana\\nYo te la saldré a buscar\\nQue en las pampas de ña Juana\\nSe salen a calentar”.\\nEl ruido que hacen los platos al chocar, los gritos y el rumor de voces nos dicen de la existencia de una fonda de chinos. Al entrar se ven varias mesas mugrientas, ayunas de mantel y encima de ellas dos pomos que contienen el uno vinagre y el otro… lo mismo; el aceite por su precio esta desterrado del convoy. Los mozos unos “macacos” que llevan mandiles de increíble suciedad lanzan unos gritos destemplados pidiendo a la cocina “conserva tu male”, “conserva tu hijo” por conserva de tomate o de higos, “caldo solo con concho”, “lomito montau”, etc, creando así primitivos calembourgs criollos, delicia de los mataperros del barrio. Detrás del mostrador el dueño José Alay, un chino asmático fumando un cigarrillo de “chamico”, vigila el movimiento de su fonda.\\nEn la Calle de la Cruz ya cerca de la esquina, en el solar “La Nueva Rosita” hay una pequeña fábrica de caramelos y confites. De allí salen las “pepelmas” y los “caracoles” con versos. Son las “pepelmas” unas pastitas cuadradas, casi siempre de color blanco o rosa, selladas, con tinta roja, que llevan frases, máximas y otros giros para sostener una silenciosa conversación. “Los caracoles” multicolores tienes todos en el centro un papelito enrollado a donde van a parar muchos curiosos versos criollos, tales como:\\n“Reparen bien a Elenita\\nComo la mira el sujeto,\\nVoy a darle una copita\\nPero guárdenme el secreto”.\\n“Tan alto la vi volar\\nA la garza palomera\\nY después la vi bajar\\nMás humilde que la tierra”.\\n“Estaba una lagartija\\nArrimada a la pared.\\nVino el lagarto y le dijo:\\nBueno es vivir para ver”.\\nque tendrán el honor de ser comentados con alusiones personales a los asistentes de los “faes” y de los “santos” de “gente de medio pelo” donde se sirven alternados con las hojitas limeñas de Field y si la cosa es más elegante con la exquisita repostería conventual… Después de las “pepelmas” y dulces vendrán las copitas del afamado vino de Moquegua marca J.L.T. (que hace levantar a los muertos) o del no menos afamado moscatel marca Ward, moqueguano también, y una buena taza de té comprado en Bodegones donde Wing On Chong. Cerrará la fiesta, con llave de oro por supuesto, una de las niñas de la casa Doloritas o Carmencita entonando con la mímica correspondiente y con ciertas caiditas de ojos dirigidas directamente a su “piquín”, alguna de las canciones de moda, ésta por ejemplo:\\nLA RUBITA\\n“A una rubita bella y sin par\\nHacia su casa la vi pasar,\\nEra tan linda que la seguí\\nY estas palabras le dirigí:\\nCasa magnifica yo te pondré\\nComo ante un clérigo el si me des.\\nY si es católica tu religión \\nIrás al tálamo con bendición.\\nNadie en el mundo jamás sintió\\nLa ardiente llama que siento yo.\\nTu amor ton sólo me hará vivir, \\nsi me lo niegas voy a morir”.\\nSi es morena, escogerá otra del repertorio en uso, el estrambótico y estrafalario valse de notas, pariente cercano de los acrósticos que ciertos conventos dedican las monjitas a la Madre Abadesa en su cumpleaños:\\nVALSE DE NOTAS\\n“Dotada estas de hermosura         Do\\nResalada incomparable             Re\\nMi querida inolvidable                Mi\\nFamosa y bella criatura              Fa\\nSolo te estos exhalando              Sol\\nLatidos del corazón                     La\\nSiempre te estoy repitiendo        Si\\n                                        Do, re, mi, fa, sol, la, si             \\n                                      Salid bella niña al balcón\\n                                          Y alegres cantemos\\n                                        Si, la, sol, fa, mi, re, do”.\\nEstas canciones dan lugar a que se luzca en el acompañamiento la tía Gertrudis educada en el colegio de la Bausejour en el que aprendió música así como las voces del piano familiar, uno de esos que está fabricando ahora don Luis Freundt en la calle de la Higuera, por más señas, como dice la acompañante, pasada la casa de doña Pancha (doña Francisca Diez Canseco de Castilla), pianos que están dando mas de un dolor de cabeza a don Guillermo Brandes, acostumbrado a surtir de los Blúthner a toda la ciudad.\\nPasada esta esquina se entra en una callejuela muy angosta, de veredas empedradas, el “Callejón Largo”, propiamente dicho. Allí está el jardín del italiano Luis Lombardo, experto en hacer coronas, palmas y cruces para las ceremonias fúnebres, en confeccionar ramos para las tertulias y ramitos de toda forma para el ojal, ramitos que no faltan en las bodas y bautizos de la gente “decente”. Don Luis cultiva en su jardín, en macizos especiales bien abonados con polvos de tabaco procedente de las fábricas “El Perú”, “Garibaldi” y “El Bombero”, varias especies de sus famosos “jazmines del Cabo”: ¿Qué elegante deja de lucirlos, por la tarde, en el ojal de la solapa, parado en la puerta del “Hotel Americano” de los hermanos Grellaud, ese hotel en cuya pilita del patio se exhiben las tortugas para la sopa y las ranas para el caldo?... Del jardín de Lombardo también salen las violetas eternas que luce día y noche don Andrés Avelino Aramburú, director de La opinión Nacional, iglesista “a outrance”. \\nSigue al jardín un corralón, depósito de la “Empresa el Agua de Lima”.\\nEn la esquina de la Salud, al centro de la calle, una cruceta de madera impide el paso de vehículos por ella.\\nLa plazuela de trágicos recuerdos en los días de la ocupación chilena tiene la forma de triángulo y está rodeada de casas de un solo piso, salvo la estación de la Salud del F.C. Inglés de Lima al Callao. Durante la invasión chilena ciertos barrios como los de San Isidro y la Cruz se hicieron célebres por la encarnizada persecución que hacían sus vecinos todo soldado chileno que caía por allí en tardes horas de la noche. Habiéndose repetido los asesinatos el Gobernador militar Patricio Lynch quiso suprimir estas manifestaciones de la indignación popular contra los invasores, de una manera radical; para esto se apresó a varios sospechosos de esos barrios, se les quintó y fueron unos fusilados junto a la tornería de don Carlos el Alemán, y otros en la pared fronteriza, ya para entrar en la calle de Bravo. Clavadas en lo alto de la pared dos cruces empéñanse los pintores ramplones en cubrir con pintura al temple, color amarillo del rey recuerdan tan luctuosos recuerdos.\\n“Dime que bastón usas y te diré quien eres” es lo que hemos sacado en limpio de nuestra conversación con don Carlos. Nos explica don Carlos cómo la clase de madera de cada bastón corresponde exactamente al carácter de las personas que lo llevan:\\nEl nudoso ”lloque” lo llevan los zambos soplones y “tomadores de mesas”.\\nEl amarillo layo, los guardaespaldas de algún político influyente.\\nEl listado “palo peruano”, los futres que se gastan ínfulas de conquistadores de… celosías.\\nLa negra quebradiza “chonta”, la clase media, empleados, clérigos e indefinidos.\\nLos aristocráticos “palo de cruz”, “marapinina” y “palo del Brasil” son maderas preferidas de magistrados, autoridades y canónigos de nuestra santa Iglesia Catedral… En estos últimos bastones es indispensable el agujerito para la cinta y borla de oro.\\nLa estación el ferrocarril Inglés tiene dos salones de espera primera y segunda clase con bancas que todo el día permanecen llenas de ociosos. Las horas más interesantes son la llegada y salida del “tren de baños” asaltado por una turba de hombres claros pantalones Waterloo, sacos obscuros y sombreros de paja del país y mujeres vestidas de colores claros, sombreros de paja Sarah Bernhardt, abanicos de papel pintado obsequio de “Au Bon Marché” y del almacén de Denegrí clientes todos de los baños de chalacos de “La Salud” y de “Chucuito”. \\nDe tarde en tarde hacen su aparición en la plazuela rubios marineros de los buques de guerra que llegan al Callao, quienes son insistentemente solicitados por los mataperros para guiarlos por unos cuantos “níqueles” de propina, a las casas de diversión de las vecinas calles de Bravo y Monopinta, antes conocidas con los nombres de Iguereta y Cuatro Cositas, respectivamente. Atraviesan en grupo la plazuela mientras los chicos por delante van cantando a toda voz:\\n“Estaba la muerte en cueros\\nen medio del mar sentadita\\ny los ingleses le dicen:\\nTrinkin fortis Margarita”. \\nComo una llamada a la jarana el pianito ambulante “Chimborazo” (llaman así a los mejor templados y no sabemos por cual razón) suena a lo lejos.\\nA las nueve de la noche sale de la estación de San Juan de Dios y pasa por la Salud en último tren al Callao, se cierran las puertas y desaparecen los transeúntes, pero no por eso goza la plazuela del tranquilo sueño de su vecina, la placita de la Recoleta, el ruido de las maquinarias de la fábrica de gas, distante apenas una cuadra y trabaja de seis de la tarde, a seis de la mañana se lo interrumpe a cada momento. Los alrededores de la fábrica, en su mayoría abandonados, han sido cuna de obscuras y trágicas leyendas en las cuales aparece casi siempre un asesino que escapa a la justicia, como:\\n“El negro Matamandinga\\npor la fábrica del Gas\\n(que) hiso siete muertes juntas\\ny lo dejaron fugar”.\\nu otro como el negro:\\n“Taita Huaranguito\\n(que) mató a du mujer\\ncon cuchillito\\ndel tamaño de él”.\\nUn olor especialísimo mezcla de alquitrán y espiritu de carbón de piedra satura el aire haciéndolo casi irrespirable y para colmo de males la gente dice que ese aire cura la tos convulsiva, las abuelas viejas de manta, con un cigarro corbatón en los labios y marcado aspecto de brujas entre un concurso de variadas toses, llevan a sus nietos a curarse aspirándolo. La plazuela de la Salud es, pues, entre todas las de esta curiosa Lima la que ha visto y oido toser más y mejor.\\n'"
      ]
     },
     "execution_count": 34,
     "metadata": {},
     "output_type": "execute_result"
    }
   ],
   "source": [
    "df['Texto'][1]"
   ]
  },
  {
   "cell_type": "code",
   "execution_count": 19,
   "metadata": {},
   "outputs": [
    {
     "name": "stderr",
     "output_type": "stream",
     "text": [
      "100%|██████████████████████████████████████████████████████████████████████████████████| 20/20 [20:26<00:00, 61.34s/it]\n"
     ]
    }
   ],
   "source": [
    "listemp=[]\n",
    "for capitulo in tqdm(range(0,20)):\n",
    "    o=df['Texto'][capitulo]\n",
    "    o=re.sub('…','...',o)\n",
    "    o=o.replace('...','.')\n",
    "    listaprueba=sent_tokenize(o)\n",
    "    for j,i in enumerate(listaprueba):\n",
    "        if j==0:\n",
    "            i=i.split('\\n')\n",
    "            i=i[0]\n",
    "        i=i.split('\\n')\n",
    "        i=' '.join(i)\n",
    "        i=trans(i)\n",
    "        listaprueba[j]=i.strip()\n",
    "    for k in listaprueba:\n",
    "        k=k.replace('.','')\n",
    "        k=k.replace(':','')\n",
    "        doc=nlp(k)\n",
    "        b=list(doc.noun_chunks)\n",
    "        for noun_phrase in b:\n",
    "            noun_phrase.merge(noun_phrase.root.dep_, noun_phrase.root.lemma_, noun_phrase.root.ent_type_)\n",
    "        for token in doc:\n",
    "            if token.ent_type_!='':\n",
    "                #print(token)\n",
    "                listemp.append([token,listaprueba[0]])"
   ]
  },
  {
   "cell_type": "code",
   "execution_count": 20,
   "metadata": {},
   "outputs": [],
   "source": [
    "locaciones=[]\n",
    "personas=[]\n",
    "for i in listemp:\n",
    "    if i[0].ent_type_=='LOC':\n",
    "        locaciones.append(i)\n",
    "    if i[0].ent_type_=='PER':\n",
    "        personas.append(i)"
   ]
  },
  {
   "cell_type": "code",
   "execution_count": 21,
   "metadata": {},
   "outputs": [
    {
     "data": {
      "text/plain": [
       "1315"
      ]
     },
     "execution_count": 21,
     "metadata": {},
     "output_type": "execute_result"
    }
   ],
   "source": [
    "len(personas)\n",
    "len(locaciones)"
   ]
  },
  {
   "cell_type": "code",
   "execution_count": 87,
   "metadata": {
    "scrolled": false
   },
   "outputs": [
    {
     "data": {
      "text/plain": [
       "'appos'"
      ]
     },
     "execution_count": 87,
     "metadata": {},
     "output_type": "execute_result"
    }
   ],
   "source": [
    "#personas \"appos,nmod,nsubj,obj,flat\"\n",
    "#ubicaciones nmod\n"
   ]
  },
  {
   "cell_type": "code",
   "execution_count": 29,
   "metadata": {
    "scrolled": true
   },
   "outputs": [],
   "source": [
    "df5=pd.DataFrame(personas)\n",
    "df5.to_excel('personas.xlsx')"
   ]
  },
  {
   "cell_type": "code",
   "execution_count": 51,
   "metadata": {},
   "outputs": [
    {
     "data": {
      "text/html": [
       "<div>\n",
       "<style scoped>\n",
       "    .dataframe tbody tr th:only-of-type {\n",
       "        vertical-align: middle;\n",
       "    }\n",
       "\n",
       "    .dataframe tbody tr th {\n",
       "        vertical-align: top;\n",
       "    }\n",
       "\n",
       "    .dataframe thead th {\n",
       "        text-align: right;\n",
       "    }\n",
       "</style>\n",
       "<table border=\"1\" class=\"dataframe\">\n",
       "  <thead>\n",
       "    <tr style=\"text-align: right;\">\n",
       "      <th></th>\n",
       "      <th>Unnamed: 0</th>\n",
       "      <th>Loc</th>\n",
       "      <th>Pers</th>\n",
       "      <th>Oracion</th>\n",
       "      <th>Plazuela</th>\n",
       "    </tr>\n",
       "  </thead>\n",
       "  <tbody>\n",
       "    <tr>\n",
       "      <th>46</th>\n",
       "      <td>93</td>\n",
       "      <td>la Micheo</td>\n",
       "      <td>Chávez</td>\n",
       "      <td>Don Francisco Romo y el señor Benavides que vi...</td>\n",
       "      <td>La Plazuela de la Micheo</td>\n",
       "    </tr>\n",
       "    <tr>\n",
       "      <th>51</th>\n",
       "      <td>101</td>\n",
       "      <td>la Micheo</td>\n",
       "      <td>Manuel Gálvez</td>\n",
       "      <td>Siguen hasta la mitad de la calle una serie de...</td>\n",
       "      <td>La Plazuela de  Belén</td>\n",
       "    </tr>\n",
       "  </tbody>\n",
       "</table>\n",
       "</div>"
      ],
      "text/plain": [
       "    Unnamed: 0        Loc           Pers  \\\n",
       "46          93  la Micheo         Chávez   \n",
       "51         101  la Micheo  Manuel Gálvez   \n",
       "\n",
       "                                              Oracion  \\\n",
       "46  Don Francisco Romo y el señor Benavides que vi...   \n",
       "51  Siguen hasta la mitad de la calle una serie de...   \n",
       "\n",
       "                    Plazuela  \n",
       "46  La Plazuela de la Micheo  \n",
       "51     La Plazuela de  Belén  "
      ]
     },
     "execution_count": 51,
     "metadata": {},
     "output_type": "execute_result"
    }
   ],
   "source": [
    "df3[df3['Loc']=='la Micheo']"
   ]
  },
  {
   "cell_type": "code",
   "execution_count": 7,
   "metadata": {},
   "outputs": [],
   "source": [
    "df4=pd.read_excel('C:/Users/Ryu/Documents/GitHub/Relatos/Visualization/Plazuelas.xlsx')"
   ]
  },
  {
   "cell_type": "code",
   "execution_count": 19,
   "metadata": {},
   "outputs": [],
   "source": [
    "lista=[]\n",
    "for i in range(len(df4)):\n",
    "    lista.append('Chávez')\n"
   ]
  },
  {
   "cell_type": "code",
   "execution_count": 20,
   "metadata": {},
   "outputs": [],
   "source": [
    "df4['Personajes']=lista"
   ]
  },
  {
   "cell_type": "code",
   "execution_count": 25,
   "metadata": {},
   "outputs": [
    {
     "name": "stderr",
     "output_type": "stream",
     "text": [
      "<ipython-input-25-d9d881779c2b>:2: SettingWithCopyWarning:\n",
      "\n",
      "\n",
      "A value is trying to be set on a copy of a slice from a DataFrame\n",
      "\n",
      "See the caveats in the documentation: https://pandas.pydata.org/pandas-docs/stable/user_guide/indexing.html#returning-a-view-versus-a-copy\n",
      "\n"
     ]
    }
   ],
   "source": [
    "#df4['Personajes'][15]='Felipe Barreda'\n",
    "df4['Personajes'][13]='Chávez, Manuel Gálvez'"
   ]
  },
  {
   "cell_type": "code",
   "execution_count": 27,
   "metadata": {},
   "outputs": [
    {
     "data": {
      "application/vnd.plotly.v1+json": {
       "config": {
        "plotlyServerURL": "https://plot.ly"
       },
       "data": [
        {
         "customdata": [
          [
           "Plaza Francia",
           "Chávez"
          ],
          [
           "Plazuela Federico Elguera",
           "Chávez"
          ],
          [
           "Parque Universitario",
           "Chávez"
          ],
          [
           "Plazuela de Santa Catalina",
           "Chávez"
          ],
          [
           "Plazuela San Pedro",
           "Chávez"
          ],
          [
           "Palacio de Gobierno",
           "Chávez"
          ],
          [
           "Jr. Trujillo cdr. 5, Jr. Cajamarca cdr. 1",
           "Chávez"
          ],
          [
           "Plaza Monserrate",
           "Chávez"
          ],
          [
           "Iglesia Las Nazarenas",
           "Chávez"
          ],
          [
           "Plaza Italia",
           "Chávez"
          ],
          [
           "Plazuela de Santa Clara",
           "Chávez"
          ],
          [
           "Plazuela Las Cabezas",
           "Chávez"
          ],
          [
           "Plaza San Martín",
           "Chávez"
          ],
          [
           "Jr. de la Unión cdr.10",
           "Chávez, Manuel Gálvez"
          ],
          [
           "Av. Uruguay",
           "Chávez"
          ],
          [
           "Alameda de los Descalzos",
           "Felipe Barreda"
          ],
          [
           "El Callejón de los Petateros",
           "Chávez"
          ],
          [
           "Plazuela Aramburú",
           "Chávez"
          ],
          [
           "Plazuela San Francisco",
           "Chávez"
          ],
          [
           "Plaza de Armas de Lima",
           "Chávez"
          ]
         ],
         "hovertemplate": "<b>%{hovertext}</b><br><br>size=%{marker.size}<br>lat=%{lat}<br>lon=%{lon}<br>Lugar actual=%{customdata[0]}<br>Personajes=%{customdata[1]}<extra></extra>",
         "hovertext": [
          "La Placita de la Recoleta",
          "La Plazuela de la Salud",
          "La Plazuela de San Carlos",
          "La Plazuela de Santa Catalina",
          "La Plazuela de San Pedro",
          "La Plazuela de los Desamparados",
          "La Bajada del Puente y la Plazuela de San Lázaro",
          "La Plazuela de Monserrate",
          "La Plazuela de las Nazarenas",
          "La Plazuela de Santa Ana",
          "La Plazuela de Santa Clara",
          "La Plazuela de las Cabezas",
          "La Plazuela de San Juan de Dios",
          "La Plazuela de la Micheo",
          "La Plazuela de Belén",
          "La Alameda de los Descalzos",
          "El Callejón de los Petateros",
          "La Plazuela de Guadalupe",
          "La Plazuela de San Francisco",
          "La Plaza de Armas"
         ],
         "lat": [
          -12.0532438,
          -12.0509474,
          -12.0541734,
          -12.0551272,
          -12.0490449,
          -12.0448456,
          -12.1686159,
          -12.0408494,
          -12.0455684,
          -12.0507402,
          -12.0478587,
          -12.039676,
          -12.0517214,
          -12.051939,
          -12.0542372,
          -12.0361672,
          -12.0472593,
          -12.0569549,
          -12.0454172,
          -12.0460038
         ],
         "legendgroup": "",
         "lon": [
          -77.0377803,
          -77.0385119,
          -77.0313674,
          -77.0267344,
          -77.0292948,
          -77.0297865,
          -76.9306474,
          -77.0435983,
          -77.0374216,
          -77.0227147,
          -77.0199162,
          -77.0332739,
          -77.0346052,
          -77.035477,
          -77.0390453,
          -77.025875,
          -77.0314986,
          -77.0343625,
          -77.0276852,
          -77.0305458
         ],
         "marker": {
          "color": "red",
          "size": [
           10,
           10,
           10,
           10,
           10,
           10,
           10,
           10,
           10,
           10,
           10,
           10,
           10,
           10,
           10,
           10,
           10,
           10,
           10,
           10
          ],
          "sizemode": "area",
          "sizeref": 0.025
         },
         "mode": "markers",
         "name": "",
         "showlegend": false,
         "subplot": "mapbox",
         "type": "scattermapbox"
        }
       ],
       "layout": {
        "height": 700,
        "legend": {
         "itemsizing": "constant",
         "tracegroupgap": 0
        },
        "mapbox": {
         "center": {
          "lat": -12.054519545000002,
          "lon": -77.0270071
         },
         "domain": {
          "x": [
           0,
           1
          ],
          "y": [
           0,
           1
          ]
         },
         "style": "open-street-map",
         "zoom": 12
        },
        "margin": {
         "t": 60
        },
        "template": {
         "data": {
          "bar": [
           {
            "error_x": {
             "color": "#2a3f5f"
            },
            "error_y": {
             "color": "#2a3f5f"
            },
            "marker": {
             "line": {
              "color": "#E5ECF6",
              "width": 0.5
             }
            },
            "type": "bar"
           }
          ],
          "barpolar": [
           {
            "marker": {
             "line": {
              "color": "#E5ECF6",
              "width": 0.5
             }
            },
            "type": "barpolar"
           }
          ],
          "carpet": [
           {
            "aaxis": {
             "endlinecolor": "#2a3f5f",
             "gridcolor": "white",
             "linecolor": "white",
             "minorgridcolor": "white",
             "startlinecolor": "#2a3f5f"
            },
            "baxis": {
             "endlinecolor": "#2a3f5f",
             "gridcolor": "white",
             "linecolor": "white",
             "minorgridcolor": "white",
             "startlinecolor": "#2a3f5f"
            },
            "type": "carpet"
           }
          ],
          "choropleth": [
           {
            "colorbar": {
             "outlinewidth": 0,
             "ticks": ""
            },
            "type": "choropleth"
           }
          ],
          "contour": [
           {
            "colorbar": {
             "outlinewidth": 0,
             "ticks": ""
            },
            "colorscale": [
             [
              0,
              "#0d0887"
             ],
             [
              0.1111111111111111,
              "#46039f"
             ],
             [
              0.2222222222222222,
              "#7201a8"
             ],
             [
              0.3333333333333333,
              "#9c179e"
             ],
             [
              0.4444444444444444,
              "#bd3786"
             ],
             [
              0.5555555555555556,
              "#d8576b"
             ],
             [
              0.6666666666666666,
              "#ed7953"
             ],
             [
              0.7777777777777778,
              "#fb9f3a"
             ],
             [
              0.8888888888888888,
              "#fdca26"
             ],
             [
              1,
              "#f0f921"
             ]
            ],
            "type": "contour"
           }
          ],
          "contourcarpet": [
           {
            "colorbar": {
             "outlinewidth": 0,
             "ticks": ""
            },
            "type": "contourcarpet"
           }
          ],
          "heatmap": [
           {
            "colorbar": {
             "outlinewidth": 0,
             "ticks": ""
            },
            "colorscale": [
             [
              0,
              "#0d0887"
             ],
             [
              0.1111111111111111,
              "#46039f"
             ],
             [
              0.2222222222222222,
              "#7201a8"
             ],
             [
              0.3333333333333333,
              "#9c179e"
             ],
             [
              0.4444444444444444,
              "#bd3786"
             ],
             [
              0.5555555555555556,
              "#d8576b"
             ],
             [
              0.6666666666666666,
              "#ed7953"
             ],
             [
              0.7777777777777778,
              "#fb9f3a"
             ],
             [
              0.8888888888888888,
              "#fdca26"
             ],
             [
              1,
              "#f0f921"
             ]
            ],
            "type": "heatmap"
           }
          ],
          "heatmapgl": [
           {
            "colorbar": {
             "outlinewidth": 0,
             "ticks": ""
            },
            "colorscale": [
             [
              0,
              "#0d0887"
             ],
             [
              0.1111111111111111,
              "#46039f"
             ],
             [
              0.2222222222222222,
              "#7201a8"
             ],
             [
              0.3333333333333333,
              "#9c179e"
             ],
             [
              0.4444444444444444,
              "#bd3786"
             ],
             [
              0.5555555555555556,
              "#d8576b"
             ],
             [
              0.6666666666666666,
              "#ed7953"
             ],
             [
              0.7777777777777778,
              "#fb9f3a"
             ],
             [
              0.8888888888888888,
              "#fdca26"
             ],
             [
              1,
              "#f0f921"
             ]
            ],
            "type": "heatmapgl"
           }
          ],
          "histogram": [
           {
            "marker": {
             "colorbar": {
              "outlinewidth": 0,
              "ticks": ""
             }
            },
            "type": "histogram"
           }
          ],
          "histogram2d": [
           {
            "colorbar": {
             "outlinewidth": 0,
             "ticks": ""
            },
            "colorscale": [
             [
              0,
              "#0d0887"
             ],
             [
              0.1111111111111111,
              "#46039f"
             ],
             [
              0.2222222222222222,
              "#7201a8"
             ],
             [
              0.3333333333333333,
              "#9c179e"
             ],
             [
              0.4444444444444444,
              "#bd3786"
             ],
             [
              0.5555555555555556,
              "#d8576b"
             ],
             [
              0.6666666666666666,
              "#ed7953"
             ],
             [
              0.7777777777777778,
              "#fb9f3a"
             ],
             [
              0.8888888888888888,
              "#fdca26"
             ],
             [
              1,
              "#f0f921"
             ]
            ],
            "type": "histogram2d"
           }
          ],
          "histogram2dcontour": [
           {
            "colorbar": {
             "outlinewidth": 0,
             "ticks": ""
            },
            "colorscale": [
             [
              0,
              "#0d0887"
             ],
             [
              0.1111111111111111,
              "#46039f"
             ],
             [
              0.2222222222222222,
              "#7201a8"
             ],
             [
              0.3333333333333333,
              "#9c179e"
             ],
             [
              0.4444444444444444,
              "#bd3786"
             ],
             [
              0.5555555555555556,
              "#d8576b"
             ],
             [
              0.6666666666666666,
              "#ed7953"
             ],
             [
              0.7777777777777778,
              "#fb9f3a"
             ],
             [
              0.8888888888888888,
              "#fdca26"
             ],
             [
              1,
              "#f0f921"
             ]
            ],
            "type": "histogram2dcontour"
           }
          ],
          "mesh3d": [
           {
            "colorbar": {
             "outlinewidth": 0,
             "ticks": ""
            },
            "type": "mesh3d"
           }
          ],
          "parcoords": [
           {
            "line": {
             "colorbar": {
              "outlinewidth": 0,
              "ticks": ""
             }
            },
            "type": "parcoords"
           }
          ],
          "pie": [
           {
            "automargin": true,
            "type": "pie"
           }
          ],
          "scatter": [
           {
            "marker": {
             "colorbar": {
              "outlinewidth": 0,
              "ticks": ""
             }
            },
            "type": "scatter"
           }
          ],
          "scatter3d": [
           {
            "line": {
             "colorbar": {
              "outlinewidth": 0,
              "ticks": ""
             }
            },
            "marker": {
             "colorbar": {
              "outlinewidth": 0,
              "ticks": ""
             }
            },
            "type": "scatter3d"
           }
          ],
          "scattercarpet": [
           {
            "marker": {
             "colorbar": {
              "outlinewidth": 0,
              "ticks": ""
             }
            },
            "type": "scattercarpet"
           }
          ],
          "scattergeo": [
           {
            "marker": {
             "colorbar": {
              "outlinewidth": 0,
              "ticks": ""
             }
            },
            "type": "scattergeo"
           }
          ],
          "scattergl": [
           {
            "marker": {
             "colorbar": {
              "outlinewidth": 0,
              "ticks": ""
             }
            },
            "type": "scattergl"
           }
          ],
          "scattermapbox": [
           {
            "marker": {
             "colorbar": {
              "outlinewidth": 0,
              "ticks": ""
             }
            },
            "type": "scattermapbox"
           }
          ],
          "scatterpolar": [
           {
            "marker": {
             "colorbar": {
              "outlinewidth": 0,
              "ticks": ""
             }
            },
            "type": "scatterpolar"
           }
          ],
          "scatterpolargl": [
           {
            "marker": {
             "colorbar": {
              "outlinewidth": 0,
              "ticks": ""
             }
            },
            "type": "scatterpolargl"
           }
          ],
          "scatterternary": [
           {
            "marker": {
             "colorbar": {
              "outlinewidth": 0,
              "ticks": ""
             }
            },
            "type": "scatterternary"
           }
          ],
          "surface": [
           {
            "colorbar": {
             "outlinewidth": 0,
             "ticks": ""
            },
            "colorscale": [
             [
              0,
              "#0d0887"
             ],
             [
              0.1111111111111111,
              "#46039f"
             ],
             [
              0.2222222222222222,
              "#7201a8"
             ],
             [
              0.3333333333333333,
              "#9c179e"
             ],
             [
              0.4444444444444444,
              "#bd3786"
             ],
             [
              0.5555555555555556,
              "#d8576b"
             ],
             [
              0.6666666666666666,
              "#ed7953"
             ],
             [
              0.7777777777777778,
              "#fb9f3a"
             ],
             [
              0.8888888888888888,
              "#fdca26"
             ],
             [
              1,
              "#f0f921"
             ]
            ],
            "type": "surface"
           }
          ],
          "table": [
           {
            "cells": {
             "fill": {
              "color": "#EBF0F8"
             },
             "line": {
              "color": "white"
             }
            },
            "header": {
             "fill": {
              "color": "#C8D4E3"
             },
             "line": {
              "color": "white"
             }
            },
            "type": "table"
           }
          ]
         },
         "layout": {
          "annotationdefaults": {
           "arrowcolor": "#2a3f5f",
           "arrowhead": 0,
           "arrowwidth": 1
          },
          "coloraxis": {
           "colorbar": {
            "outlinewidth": 0,
            "ticks": ""
           }
          },
          "colorscale": {
           "diverging": [
            [
             0,
             "#8e0152"
            ],
            [
             0.1,
             "#c51b7d"
            ],
            [
             0.2,
             "#de77ae"
            ],
            [
             0.3,
             "#f1b6da"
            ],
            [
             0.4,
             "#fde0ef"
            ],
            [
             0.5,
             "#f7f7f7"
            ],
            [
             0.6,
             "#e6f5d0"
            ],
            [
             0.7,
             "#b8e186"
            ],
            [
             0.8,
             "#7fbc41"
            ],
            [
             0.9,
             "#4d9221"
            ],
            [
             1,
             "#276419"
            ]
           ],
           "sequential": [
            [
             0,
             "#0d0887"
            ],
            [
             0.1111111111111111,
             "#46039f"
            ],
            [
             0.2222222222222222,
             "#7201a8"
            ],
            [
             0.3333333333333333,
             "#9c179e"
            ],
            [
             0.4444444444444444,
             "#bd3786"
            ],
            [
             0.5555555555555556,
             "#d8576b"
            ],
            [
             0.6666666666666666,
             "#ed7953"
            ],
            [
             0.7777777777777778,
             "#fb9f3a"
            ],
            [
             0.8888888888888888,
             "#fdca26"
            ],
            [
             1,
             "#f0f921"
            ]
           ],
           "sequentialminus": [
            [
             0,
             "#0d0887"
            ],
            [
             0.1111111111111111,
             "#46039f"
            ],
            [
             0.2222222222222222,
             "#7201a8"
            ],
            [
             0.3333333333333333,
             "#9c179e"
            ],
            [
             0.4444444444444444,
             "#bd3786"
            ],
            [
             0.5555555555555556,
             "#d8576b"
            ],
            [
             0.6666666666666666,
             "#ed7953"
            ],
            [
             0.7777777777777778,
             "#fb9f3a"
            ],
            [
             0.8888888888888888,
             "#fdca26"
            ],
            [
             1,
             "#f0f921"
            ]
           ]
          },
          "colorway": [
           "#636efa",
           "#EF553B",
           "#00cc96",
           "#ab63fa",
           "#FFA15A",
           "#19d3f3",
           "#FF6692",
           "#B6E880",
           "#FF97FF",
           "#FECB52"
          ],
          "font": {
           "color": "#2a3f5f"
          },
          "geo": {
           "bgcolor": "white",
           "lakecolor": "white",
           "landcolor": "#E5ECF6",
           "showlakes": true,
           "showland": true,
           "subunitcolor": "white"
          },
          "hoverlabel": {
           "align": "left"
          },
          "hovermode": "closest",
          "mapbox": {
           "style": "light"
          },
          "paper_bgcolor": "white",
          "plot_bgcolor": "#E5ECF6",
          "polar": {
           "angularaxis": {
            "gridcolor": "white",
            "linecolor": "white",
            "ticks": ""
           },
           "bgcolor": "#E5ECF6",
           "radialaxis": {
            "gridcolor": "white",
            "linecolor": "white",
            "ticks": ""
           }
          },
          "scene": {
           "xaxis": {
            "backgroundcolor": "#E5ECF6",
            "gridcolor": "white",
            "gridwidth": 2,
            "linecolor": "white",
            "showbackground": true,
            "ticks": "",
            "zerolinecolor": "white"
           },
           "yaxis": {
            "backgroundcolor": "#E5ECF6",
            "gridcolor": "white",
            "gridwidth": 2,
            "linecolor": "white",
            "showbackground": true,
            "ticks": "",
            "zerolinecolor": "white"
           },
           "zaxis": {
            "backgroundcolor": "#E5ECF6",
            "gridcolor": "white",
            "gridwidth": 2,
            "linecolor": "white",
            "showbackground": true,
            "ticks": "",
            "zerolinecolor": "white"
           }
          },
          "shapedefaults": {
           "line": {
            "color": "#2a3f5f"
           }
          },
          "ternary": {
           "aaxis": {
            "gridcolor": "white",
            "linecolor": "white",
            "ticks": ""
           },
           "baxis": {
            "gridcolor": "white",
            "linecolor": "white",
            "ticks": ""
           },
           "bgcolor": "#E5ECF6",
           "caxis": {
            "gridcolor": "white",
            "linecolor": "white",
            "ticks": ""
           }
          },
          "title": {
           "x": 0.05
          },
          "xaxis": {
           "automargin": true,
           "gridcolor": "white",
           "linecolor": "white",
           "ticks": "",
           "title": {
            "standoff": 15
           },
           "zerolinecolor": "white",
           "zerolinewidth": 2
          },
          "yaxis": {
           "automargin": true,
           "gridcolor": "white",
           "linecolor": "white",
           "ticks": "",
           "title": {
            "standoff": 15
           },
           "zerolinecolor": "white",
           "zerolinewidth": 2
          }
         }
        }
       }
      },
      "text/html": [
       "<div>\n",
       "        \n",
       "        \n",
       "            <div id=\"b5e29412-2dba-4963-998c-7e9b83e5c2d0\" class=\"plotly-graph-div\" style=\"height:700px; width:100%;\"></div>\n",
       "            <script type=\"text/javascript\">\n",
       "                require([\"plotly\"], function(Plotly) {\n",
       "                    window.PLOTLYENV=window.PLOTLYENV || {};\n",
       "                    \n",
       "                if (document.getElementById(\"b5e29412-2dba-4963-998c-7e9b83e5c2d0\")) {\n",
       "                    Plotly.newPlot(\n",
       "                        'b5e29412-2dba-4963-998c-7e9b83e5c2d0',\n",
       "                        [{\"customdata\": [[\"Plaza Francia\", \"Ch\\u00e1vez\"], [\"Plazuela Federico Elguera\", \"Ch\\u00e1vez\"], [\"Parque Universitario\", \"Ch\\u00e1vez\"], [\"Plazuela de Santa Catalina\", \"Ch\\u00e1vez\"], [\"Plazuela San Pedro\", \"Ch\\u00e1vez\"], [\"Palacio de Gobierno\", \"Ch\\u00e1vez\"], [\"Jr. Trujillo cdr. 5, Jr. Cajamarca cdr. 1\", \"Ch\\u00e1vez\"], [\"Plaza Monserrate\", \"Ch\\u00e1vez\"], [\"Iglesia Las Nazarenas\", \"Ch\\u00e1vez\"], [\"Plaza Italia\", \"Ch\\u00e1vez\"], [\"Plazuela de Santa Clara\", \"Ch\\u00e1vez\"], [\"Plazuela Las Cabezas\", \"Ch\\u00e1vez\"], [\"Plaza San Mart\\u00edn\", \"Ch\\u00e1vez\"], [\"Jr. de la Uni\\u00f3n cdr.10\", \"Ch\\u00e1vez, Manuel G\\u00e1lvez\"], [\"Av. Uruguay\", \"Ch\\u00e1vez\"], [\"Alameda de los Descalzos\", \"Felipe Barreda\"], [\"El Callej\\u00f3n de los Petateros\", \"Ch\\u00e1vez\"], [\"Plazuela Arambur\\u00fa\", \"Ch\\u00e1vez\"], [\"Plazuela San Francisco\", \"Ch\\u00e1vez\"], [\"Plaza de Armas de Lima\", \"Ch\\u00e1vez\"]], \"hovertemplate\": \"<b>%{hovertext}</b><br><br>size=%{marker.size}<br>lat=%{lat}<br>lon=%{lon}<br>Lugar actual=%{customdata[0]}<br>Personajes=%{customdata[1]}<extra></extra>\", \"hovertext\": [\"La Placita de la Recoleta\", \"La Plazuela de la Salud\", \"La Plazuela de San Carlos\", \"La Plazuela de Santa Catalina\", \"La Plazuela de San Pedro\", \"La Plazuela de los Desamparados\", \"La Bajada del Puente y la Plazuela de San L\\u00e1zaro\", \"La Plazuela de Monserrate\", \"La Plazuela de las Nazarenas\", \"La Plazuela de Santa Ana\", \"La Plazuela de Santa Clara\", \"La Plazuela de las Cabezas\", \"La Plazuela de San Juan de Dios\", \"La Plazuela de la Micheo\", \"La Plazuela de Bel\\u00e9n\", \"La Alameda de los Descalzos\", \"El Callej\\u00f3n de los Petateros\", \"La Plazuela de Guadalupe\", \"La Plazuela de San Francisco\", \"La Plaza de Armas\"], \"lat\": [-12.0532438, -12.0509474, -12.0541734, -12.0551272, -12.0490449, -12.0448456, -12.1686159, -12.0408494, -12.0455684, -12.0507402, -12.0478587, -12.039676, -12.0517214, -12.051939, -12.0542372, -12.0361672, -12.0472593, -12.0569549, -12.0454172, -12.0460038], \"legendgroup\": \"\", \"lon\": [-77.0377803, -77.0385119, -77.0313674, -77.0267344, -77.0292948, -77.0297865, -76.9306474, -77.0435983, -77.0374216, -77.0227147, -77.0199162, -77.0332739, -77.0346052, -77.035477, -77.0390453, -77.025875, -77.0314986, -77.0343625, -77.0276852, -77.0305458], \"marker\": {\"color\": \"red\", \"size\": [10, 10, 10, 10, 10, 10, 10, 10, 10, 10, 10, 10, 10, 10, 10, 10, 10, 10, 10, 10], \"sizemode\": \"area\", \"sizeref\": 0.025}, \"mode\": \"markers\", \"name\": \"\", \"showlegend\": false, \"subplot\": \"mapbox\", \"type\": \"scattermapbox\"}],\n",
       "                        {\"height\": 700, \"legend\": {\"itemsizing\": \"constant\", \"tracegroupgap\": 0}, \"mapbox\": {\"center\": {\"lat\": -12.054519545000002, \"lon\": -77.0270071}, \"domain\": {\"x\": [0.0, 1.0], \"y\": [0.0, 1.0]}, \"style\": \"open-street-map\", \"zoom\": 12}, \"margin\": {\"t\": 60}, \"template\": {\"data\": {\"bar\": [{\"error_x\": {\"color\": \"#2a3f5f\"}, \"error_y\": {\"color\": \"#2a3f5f\"}, \"marker\": {\"line\": {\"color\": \"#E5ECF6\", \"width\": 0.5}}, \"type\": \"bar\"}], \"barpolar\": [{\"marker\": {\"line\": {\"color\": \"#E5ECF6\", \"width\": 0.5}}, \"type\": \"barpolar\"}], \"carpet\": [{\"aaxis\": {\"endlinecolor\": \"#2a3f5f\", \"gridcolor\": \"white\", \"linecolor\": \"white\", \"minorgridcolor\": \"white\", \"startlinecolor\": \"#2a3f5f\"}, \"baxis\": {\"endlinecolor\": \"#2a3f5f\", \"gridcolor\": \"white\", \"linecolor\": \"white\", \"minorgridcolor\": \"white\", \"startlinecolor\": \"#2a3f5f\"}, \"type\": \"carpet\"}], \"choropleth\": [{\"colorbar\": {\"outlinewidth\": 0, \"ticks\": \"\"}, \"type\": \"choropleth\"}], \"contour\": [{\"colorbar\": {\"outlinewidth\": 0, \"ticks\": \"\"}, \"colorscale\": [[0.0, \"#0d0887\"], [0.1111111111111111, \"#46039f\"], [0.2222222222222222, \"#7201a8\"], [0.3333333333333333, \"#9c179e\"], [0.4444444444444444, \"#bd3786\"], [0.5555555555555556, \"#d8576b\"], [0.6666666666666666, \"#ed7953\"], [0.7777777777777778, \"#fb9f3a\"], [0.8888888888888888, \"#fdca26\"], [1.0, \"#f0f921\"]], \"type\": \"contour\"}], \"contourcarpet\": [{\"colorbar\": {\"outlinewidth\": 0, \"ticks\": \"\"}, \"type\": \"contourcarpet\"}], \"heatmap\": [{\"colorbar\": {\"outlinewidth\": 0, \"ticks\": \"\"}, \"colorscale\": [[0.0, \"#0d0887\"], [0.1111111111111111, \"#46039f\"], [0.2222222222222222, \"#7201a8\"], [0.3333333333333333, \"#9c179e\"], [0.4444444444444444, \"#bd3786\"], [0.5555555555555556, \"#d8576b\"], [0.6666666666666666, \"#ed7953\"], [0.7777777777777778, \"#fb9f3a\"], [0.8888888888888888, \"#fdca26\"], [1.0, \"#f0f921\"]], \"type\": \"heatmap\"}], \"heatmapgl\": [{\"colorbar\": {\"outlinewidth\": 0, \"ticks\": \"\"}, \"colorscale\": [[0.0, \"#0d0887\"], [0.1111111111111111, \"#46039f\"], [0.2222222222222222, \"#7201a8\"], [0.3333333333333333, \"#9c179e\"], [0.4444444444444444, \"#bd3786\"], [0.5555555555555556, \"#d8576b\"], [0.6666666666666666, \"#ed7953\"], [0.7777777777777778, \"#fb9f3a\"], [0.8888888888888888, \"#fdca26\"], [1.0, \"#f0f921\"]], \"type\": \"heatmapgl\"}], \"histogram\": [{\"marker\": {\"colorbar\": {\"outlinewidth\": 0, \"ticks\": \"\"}}, \"type\": \"histogram\"}], \"histogram2d\": [{\"colorbar\": {\"outlinewidth\": 0, \"ticks\": \"\"}, \"colorscale\": [[0.0, \"#0d0887\"], [0.1111111111111111, \"#46039f\"], [0.2222222222222222, \"#7201a8\"], [0.3333333333333333, \"#9c179e\"], [0.4444444444444444, \"#bd3786\"], [0.5555555555555556, \"#d8576b\"], [0.6666666666666666, \"#ed7953\"], [0.7777777777777778, \"#fb9f3a\"], [0.8888888888888888, \"#fdca26\"], [1.0, \"#f0f921\"]], \"type\": \"histogram2d\"}], \"histogram2dcontour\": [{\"colorbar\": {\"outlinewidth\": 0, \"ticks\": \"\"}, \"colorscale\": [[0.0, \"#0d0887\"], [0.1111111111111111, \"#46039f\"], [0.2222222222222222, \"#7201a8\"], [0.3333333333333333, \"#9c179e\"], [0.4444444444444444, \"#bd3786\"], [0.5555555555555556, \"#d8576b\"], [0.6666666666666666, \"#ed7953\"], [0.7777777777777778, \"#fb9f3a\"], [0.8888888888888888, \"#fdca26\"], [1.0, \"#f0f921\"]], \"type\": \"histogram2dcontour\"}], \"mesh3d\": [{\"colorbar\": {\"outlinewidth\": 0, \"ticks\": \"\"}, \"type\": \"mesh3d\"}], \"parcoords\": [{\"line\": {\"colorbar\": {\"outlinewidth\": 0, \"ticks\": \"\"}}, \"type\": \"parcoords\"}], \"pie\": [{\"automargin\": true, \"type\": \"pie\"}], \"scatter\": [{\"marker\": {\"colorbar\": {\"outlinewidth\": 0, \"ticks\": \"\"}}, \"type\": \"scatter\"}], \"scatter3d\": [{\"line\": {\"colorbar\": {\"outlinewidth\": 0, \"ticks\": \"\"}}, \"marker\": {\"colorbar\": {\"outlinewidth\": 0, \"ticks\": \"\"}}, \"type\": \"scatter3d\"}], \"scattercarpet\": [{\"marker\": {\"colorbar\": {\"outlinewidth\": 0, \"ticks\": \"\"}}, \"type\": \"scattercarpet\"}], \"scattergeo\": [{\"marker\": {\"colorbar\": {\"outlinewidth\": 0, \"ticks\": \"\"}}, \"type\": \"scattergeo\"}], \"scattergl\": [{\"marker\": {\"colorbar\": {\"outlinewidth\": 0, \"ticks\": \"\"}}, \"type\": \"scattergl\"}], \"scattermapbox\": [{\"marker\": {\"colorbar\": {\"outlinewidth\": 0, \"ticks\": \"\"}}, \"type\": \"scattermapbox\"}], \"scatterpolar\": [{\"marker\": {\"colorbar\": {\"outlinewidth\": 0, \"ticks\": \"\"}}, \"type\": \"scatterpolar\"}], \"scatterpolargl\": [{\"marker\": {\"colorbar\": {\"outlinewidth\": 0, \"ticks\": \"\"}}, \"type\": \"scatterpolargl\"}], \"scatterternary\": [{\"marker\": {\"colorbar\": {\"outlinewidth\": 0, \"ticks\": \"\"}}, \"type\": \"scatterternary\"}], \"surface\": [{\"colorbar\": {\"outlinewidth\": 0, \"ticks\": \"\"}, \"colorscale\": [[0.0, \"#0d0887\"], [0.1111111111111111, \"#46039f\"], [0.2222222222222222, \"#7201a8\"], [0.3333333333333333, \"#9c179e\"], [0.4444444444444444, \"#bd3786\"], [0.5555555555555556, \"#d8576b\"], [0.6666666666666666, \"#ed7953\"], [0.7777777777777778, \"#fb9f3a\"], [0.8888888888888888, \"#fdca26\"], [1.0, \"#f0f921\"]], \"type\": \"surface\"}], \"table\": [{\"cells\": {\"fill\": {\"color\": \"#EBF0F8\"}, \"line\": {\"color\": \"white\"}}, \"header\": {\"fill\": {\"color\": \"#C8D4E3\"}, \"line\": {\"color\": \"white\"}}, \"type\": \"table\"}]}, \"layout\": {\"annotationdefaults\": {\"arrowcolor\": \"#2a3f5f\", \"arrowhead\": 0, \"arrowwidth\": 1}, \"coloraxis\": {\"colorbar\": {\"outlinewidth\": 0, \"ticks\": \"\"}}, \"colorscale\": {\"diverging\": [[0, \"#8e0152\"], [0.1, \"#c51b7d\"], [0.2, \"#de77ae\"], [0.3, \"#f1b6da\"], [0.4, \"#fde0ef\"], [0.5, \"#f7f7f7\"], [0.6, \"#e6f5d0\"], [0.7, \"#b8e186\"], [0.8, \"#7fbc41\"], [0.9, \"#4d9221\"], [1, \"#276419\"]], \"sequential\": [[0.0, \"#0d0887\"], [0.1111111111111111, \"#46039f\"], [0.2222222222222222, \"#7201a8\"], [0.3333333333333333, \"#9c179e\"], [0.4444444444444444, \"#bd3786\"], [0.5555555555555556, \"#d8576b\"], [0.6666666666666666, \"#ed7953\"], [0.7777777777777778, \"#fb9f3a\"], [0.8888888888888888, \"#fdca26\"], [1.0, \"#f0f921\"]], \"sequentialminus\": [[0.0, \"#0d0887\"], [0.1111111111111111, \"#46039f\"], [0.2222222222222222, \"#7201a8\"], [0.3333333333333333, \"#9c179e\"], [0.4444444444444444, \"#bd3786\"], [0.5555555555555556, \"#d8576b\"], [0.6666666666666666, \"#ed7953\"], [0.7777777777777778, \"#fb9f3a\"], [0.8888888888888888, \"#fdca26\"], [1.0, \"#f0f921\"]]}, \"colorway\": [\"#636efa\", \"#EF553B\", \"#00cc96\", \"#ab63fa\", \"#FFA15A\", \"#19d3f3\", \"#FF6692\", \"#B6E880\", \"#FF97FF\", \"#FECB52\"], \"font\": {\"color\": \"#2a3f5f\"}, \"geo\": {\"bgcolor\": \"white\", \"lakecolor\": \"white\", \"landcolor\": \"#E5ECF6\", \"showlakes\": true, \"showland\": true, \"subunitcolor\": \"white\"}, \"hoverlabel\": {\"align\": \"left\"}, \"hovermode\": \"closest\", \"mapbox\": {\"style\": \"light\"}, \"paper_bgcolor\": \"white\", \"plot_bgcolor\": \"#E5ECF6\", \"polar\": {\"angularaxis\": {\"gridcolor\": \"white\", \"linecolor\": \"white\", \"ticks\": \"\"}, \"bgcolor\": \"#E5ECF6\", \"radialaxis\": {\"gridcolor\": \"white\", \"linecolor\": \"white\", \"ticks\": \"\"}}, \"scene\": {\"xaxis\": {\"backgroundcolor\": \"#E5ECF6\", \"gridcolor\": \"white\", \"gridwidth\": 2, \"linecolor\": \"white\", \"showbackground\": true, \"ticks\": \"\", \"zerolinecolor\": \"white\"}, \"yaxis\": {\"backgroundcolor\": \"#E5ECF6\", \"gridcolor\": \"white\", \"gridwidth\": 2, \"linecolor\": \"white\", \"showbackground\": true, \"ticks\": \"\", \"zerolinecolor\": \"white\"}, \"zaxis\": {\"backgroundcolor\": \"#E5ECF6\", \"gridcolor\": \"white\", \"gridwidth\": 2, \"linecolor\": \"white\", \"showbackground\": true, \"ticks\": \"\", \"zerolinecolor\": \"white\"}}, \"shapedefaults\": {\"line\": {\"color\": \"#2a3f5f\"}}, \"ternary\": {\"aaxis\": {\"gridcolor\": \"white\", \"linecolor\": \"white\", \"ticks\": \"\"}, \"baxis\": {\"gridcolor\": \"white\", \"linecolor\": \"white\", \"ticks\": \"\"}, \"bgcolor\": \"#E5ECF6\", \"caxis\": {\"gridcolor\": \"white\", \"linecolor\": \"white\", \"ticks\": \"\"}}, \"title\": {\"x\": 0.05}, \"xaxis\": {\"automargin\": true, \"gridcolor\": \"white\", \"linecolor\": \"white\", \"ticks\": \"\", \"title\": {\"standoff\": 15}, \"zerolinecolor\": \"white\", \"zerolinewidth\": 2}, \"yaxis\": {\"automargin\": true, \"gridcolor\": \"white\", \"linecolor\": \"white\", \"ticks\": \"\", \"title\": {\"standoff\": 15}, \"zerolinecolor\": \"white\", \"zerolinewidth\": 2}}}},\n",
       "                        {\"responsive\": true}\n",
       "                    ).then(function(){\n",
       "                            \n",
       "var gd = document.getElementById('b5e29412-2dba-4963-998c-7e9b83e5c2d0');\n",
       "var x = new MutationObserver(function (mutations, observer) {{\n",
       "        var display = window.getComputedStyle(gd).display;\n",
       "        if (!display || display === 'none') {{\n",
       "            console.log([gd, 'removed!']);\n",
       "            Plotly.purge(gd);\n",
       "            observer.disconnect();\n",
       "        }}\n",
       "}});\n",
       "\n",
       "// Listen for the removal of the full notebook cells\n",
       "var notebookContainer = gd.closest('#notebook-container');\n",
       "if (notebookContainer) {{\n",
       "    x.observe(notebookContainer, {childList: true});\n",
       "}}\n",
       "\n",
       "// Listen for the clearing of the current output cell\n",
       "var outputEl = gd.closest('.output');\n",
       "if (outputEl) {{\n",
       "    x.observe(outputEl, {childList: true});\n",
       "}}\n",
       "\n",
       "                        })\n",
       "                };\n",
       "                });\n",
       "            </script>\n",
       "        </div>"
      ]
     },
     "metadata": {},
     "output_type": "display_data"
    }
   ],
   "source": [
    "import plotly.express as px\n",
    "listazero=[10]*len(df4)\n",
    "fig = px.scatter_mapbox(df4, lat=\"lat\", lon=\"lon\", hover_name=\"Plazuelas\",hover_data=['Lugar actual','Personajes'],\n",
    "                        color_discrete_sequence=[\"red\"], zoom=12, height=700, size=listazero)        \n",
    "fig.update_layout(mapbox_style=\"open-street-map\")"
   ]
  },
  {
   "cell_type": "code",
   "execution_count": 65,
   "metadata": {},
   "outputs": [],
   "source": [
    "listalocs=df3['Loc'].tolist()"
   ]
  },
  {
   "cell_type": "code",
   "execution_count": 67,
   "metadata": {},
   "outputs": [],
   "source": [
    "listalocs=list(set(listalocs))"
   ]
  },
  {
   "cell_type": "code",
   "execution_count": 83,
   "metadata": {},
   "outputs": [],
   "source": [
    "listaer=[]\n",
    "for i in listalocs:\n",
    "    a=df3[df3['Loc']==i]\n",
    "    perso=a['Pers'].tolist()\n",
    "    listad=[i,perso, len(perso)]\n",
    "    listaer.append(listad)"
   ]
  },
  {
   "cell_type": "code",
   "execution_count": 84,
   "metadata": {},
   "outputs": [],
   "source": [
    "dfg=pd.DataFrame(listaer,columns=['Loc','Personas','Cant'])"
   ]
  },
  {
   "cell_type": "code",
   "execution_count": 89,
   "metadata": {},
   "outputs": [
    {
     "data": {
      "text/html": [
       "<div>\n",
       "<style scoped>\n",
       "    .dataframe tbody tr th:only-of-type {\n",
       "        vertical-align: middle;\n",
       "    }\n",
       "\n",
       "    .dataframe tbody tr th {\n",
       "        vertical-align: top;\n",
       "    }\n",
       "\n",
       "    .dataframe thead th {\n",
       "        text-align: right;\n",
       "    }\n",
       "</style>\n",
       "<table border=\"1\" class=\"dataframe\">\n",
       "  <thead>\n",
       "    <tr style=\"text-align: right;\">\n",
       "      <th></th>\n",
       "      <th>Loc</th>\n",
       "      <th>Personas</th>\n",
       "      <th>Cant</th>\n",
       "    </tr>\n",
       "  </thead>\n",
       "  <tbody>\n",
       "    <tr>\n",
       "      <th>13</th>\n",
       "      <td>Lima</td>\n",
       "      <td>[José Santos, Don Carlos, el vecino Alty, Gail...</td>\n",
       "      <td>8</td>\n",
       "    </tr>\n",
       "    <tr>\n",
       "      <th>31</th>\n",
       "      <td>Boza</td>\n",
       "      <td>[ don Carlos Paz Soldán, Pedro Paz Soldán, Man...</td>\n",
       "      <td>4</td>\n",
       "    </tr>\n",
       "    <tr>\n",
       "      <th>5</th>\n",
       "      <td>la Merced</td>\n",
       "      <td>[Malmborg, el sueco Young, Malmborg]</td>\n",
       "      <td>3</td>\n",
       "    </tr>\n",
       "    <tr>\n",
       "      <th>9</th>\n",
       "      <td>la Condesa</td>\n",
       "      <td>[Félix Zoppi, ño Cerezo]</td>\n",
       "      <td>2</td>\n",
       "    </tr>\n",
       "    <tr>\n",
       "      <th>20</th>\n",
       "      <td>la Micheo</td>\n",
       "      <td>[Chávez, Manuel Gálvez]</td>\n",
       "      <td>2</td>\n",
       "    </tr>\n",
       "    <tr>\n",
       "      <th>...</th>\n",
       "      <td>...</td>\n",
       "      <td>...</td>\n",
       "      <td>...</td>\n",
       "    </tr>\n",
       "    <tr>\n",
       "      <th>29</th>\n",
       "      <td>San Pedro</td>\n",
       "      <td>[Montalbán]</td>\n",
       "      <td>1</td>\n",
       "    </tr>\n",
       "    <tr>\n",
       "      <th>30</th>\n",
       "      <td>Colegio de la O</td>\n",
       "      <td>[Pedro Drinot]</td>\n",
       "      <td>1</td>\n",
       "    </tr>\n",
       "    <tr>\n",
       "      <th>1</th>\n",
       "      <td>Panteón de Lima</td>\n",
       "      <td>[Matías Maestro]</td>\n",
       "      <td>1</td>\n",
       "    </tr>\n",
       "    <tr>\n",
       "      <th>32</th>\n",
       "      <td>San Juan de Dios</td>\n",
       "      <td>[Juan de Arona]</td>\n",
       "      <td>1</td>\n",
       "    </tr>\n",
       "    <tr>\n",
       "      <th>62</th>\n",
       "      <td>la quinta de la Victoria</td>\n",
       "      <td>[Echenique]</td>\n",
       "      <td>1</td>\n",
       "    </tr>\n",
       "  </tbody>\n",
       "</table>\n",
       "<p>63 rows × 3 columns</p>\n",
       "</div>"
      ],
      "text/plain": [
       "                         Loc  \\\n",
       "13                      Lima   \n",
       "31                      Boza   \n",
       "5                  la Merced   \n",
       "9                 la Condesa   \n",
       "20                 la Micheo   \n",
       "..                       ...   \n",
       "29                 San Pedro   \n",
       "30           Colegio de la O   \n",
       "1            Panteón de Lima   \n",
       "32          San Juan de Dios   \n",
       "62  la quinta de la Victoria   \n",
       "\n",
       "                                             Personas  Cant  \n",
       "13  [José Santos, Don Carlos, el vecino Alty, Gail...     8  \n",
       "31  [ don Carlos Paz Soldán, Pedro Paz Soldán, Man...     4  \n",
       "5                [Malmborg, el sueco Young, Malmborg]     3  \n",
       "9                            [Félix Zoppi, ño Cerezo]     2  \n",
       "20                            [Chávez, Manuel Gálvez]     2  \n",
       "..                                                ...   ...  \n",
       "29                                        [Montalbán]     1  \n",
       "30                                     [Pedro Drinot]     1  \n",
       "1                                    [Matías Maestro]     1  \n",
       "32                                    [Juan de Arona]     1  \n",
       "62                                        [Echenique]     1  \n",
       "\n",
       "[63 rows x 3 columns]"
      ]
     },
     "execution_count": 89,
     "metadata": {},
     "output_type": "execute_result"
    }
   ],
   "source": [
    "dfg.sort_values('Cant',ascending=False)"
   ]
  },
  {
   "cell_type": "code",
   "execution_count": 92,
   "metadata": {},
   "outputs": [
    {
     "name": "stdout",
     "output_type": "stream",
     "text": [
      "[' don Carlos Paz Soldán', 'Pedro Paz Soldán', 'Manuel González de la Rosa', 'Mariano Felipe']\n"
     ]
    }
   ],
   "source": [
    "print(dfg['Personas'][31])"
   ]
  },
  {
   "cell_type": "code",
   "execution_count": null,
   "metadata": {},
   "outputs": [],
   "source": []
  }
 ],
 "metadata": {
  "kernelspec": {
   "display_name": "Python 3",
   "language": "python",
   "name": "python3"
  },
  "language_info": {
   "codemirror_mode": {
    "name": "ipython",
    "version": 3
   },
   "file_extension": ".py",
   "mimetype": "text/x-python",
   "name": "python",
   "nbconvert_exporter": "python",
   "pygments_lexer": "ipython3",
   "version": "3.8.2"
  }
 },
 "nbformat": 4,
 "nbformat_minor": 2
}
