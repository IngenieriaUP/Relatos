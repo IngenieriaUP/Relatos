{
 "cells": [
  {
   "cell_type": "markdown",
   "metadata": {},
   "source": [
    "# Notebook  de Relaciones de entidades"
   ]
  },
  {
   "cell_type": "markdown",
   "metadata": {},
   "source": [
    "1. Preprocesar la data"
   ]
  },
  {
   "cell_type": "code",
   "execution_count": 1,
   "metadata": {},
   "outputs": [],
   "source": [
    "import pandas as pd\n",
    "import re\n",
    "import spacy\n",
    "import unidecode\n",
    "from collections import Counter\n",
    "from nltk.tokenize import sent_tokenize, word_tokenize\n",
    "from tqdm import tqdm"
   ]
  },
  {
   "cell_type": "code",
   "execution_count": 2,
   "metadata": {},
   "outputs": [],
   "source": [
    "nlp = spacy.load('es_core_news_md')"
   ]
  },
  {
   "cell_type": "code",
   "execution_count": 3,
   "metadata": {},
   "outputs": [],
   "source": [
    "#Preprocesamiento de las oraciones\n",
    "def trans(text):\n",
    "    temp = text.split(' ')\n",
    "    for k, i in enumerate(temp):\n",
    "        i = re.sub(r'[“”´!?¡¿]*', '', i)\n",
    "        i = re.sub(r'[0-9]*', '', i)\n",
    "        #i=unidecode.unidecode(i)\n",
    "        #print(i)\n",
    "        if i.isupper():\n",
    "            if i == 'DE' or i == 'LA' or i == 'DEL' or i == 'EL':\n",
    "                i = i.lower()\n",
    "            firstl = i[0]\n",
    "            otros = ''\n",
    "            for j in range(1, len(i)):\n",
    "                otros = otros + i[j].lower()\n",
    "            palabra = firstl + otros\n",
    "            #if palabra.lower() in stop_words:\n",
    "            #    palabra=''\n",
    "            temp[k] = palabra\n",
    "        else:\n",
    "            #if i.lower() in stop_words:\n",
    "            #   i=''\n",
    "            temp[k] = i\n",
    "    prueba = ' '.join(temp)\n",
    "    #print(prueba)\n",
    "    return prueba     "
   ]
  },
  {
   "cell_type": "code",
   "execution_count": null,
   "metadata": {},
   "outputs": [],
   "source": [
    "# WARNING: NO SE UTILIZA\n",
    "def hallarr(listaent):\n",
    "    # se separa las personas y locaciones\n",
    "    persona = []\n",
    "    ubicacion = []\n",
    "    listafinal = [] # se almacena la locacion y las personas que pertenecen A LA MISMA ORACIÓN\n",
    "    for i in listaent:\n",
    "        if i.label_ == 'PER':\n",
    "            persona.append(i)\n",
    "        if i.label_ == 'LOC':\n",
    "            ubicacion.append(i)\n",
    "    # se extrae las locaciones y personas que pertenecen a una misma oracion\n",
    "    for j in ubicacion:\n",
    "        listemporal = [] #lista temporal \n",
    "        listemporal.append(j)\n",
    "        for i in persona:\n",
    "            if str(j.doc) == str(i.doc): # WARNING: esta es comparacion de oraciones?\n",
    "                listemporal.append(i)\n",
    "        if len(listemporal) > 1:\n",
    "            listafinal.append(listemporal)\n",
    "    # Obtener lista unica de personas y locaciones :v\n",
    "    persona2 = []\n",
    "    ubicacion2 = []\n",
    "    for i in persona:\n",
    "        persona2.append(i.text)\n",
    "    for j in ubicacion:\n",
    "        ubicacion2.append(j.text)\n",
    "    persona2 = list(set(persona2))\n",
    "    ubicacion2 = list(set(ubicacion2))       \n",
    "    # Unir las locaciones repetidas\n",
    "    listafinalv2 = []\n",
    "    listaperf = []\n",
    "    for i in ubicacion2:\n",
    "        #listatr=[]\n",
    "        listatr = i\n",
    "        listperl = []\n",
    "        for j in listafinal:\n",
    "            if j != []:\n",
    "                if i == str(j[0]):\n",
    "                    j.pop(0)\n",
    "                    listperl.extend(j)\n",
    "        listafinalv2.append(listatr)\n",
    "        listaperf.append(listperl)\n",
    "    # Unir locaciones con nombre similar\n",
    "    # Se hizo estos for para no hacer muy complejo el codigo\n",
    "    maxo = []\n",
    "    for  i in listafinalv2:\n",
    "        listae = []\n",
    "        for j, k in enumerate(listafinalv2):\n",
    "            tr = re.findall(i,k)\n",
    "            if tr != []:\n",
    "                dpro = [j]\n",
    "                if dpro in maxo:\n",
    "                    ind = maxo.index(dpro)\n",
    "                    maxo.pop(ind)\n",
    "                listae.extend(dpro)\n",
    "        maxo.append(listae)\n",
    "    pruelife = []\n",
    "    for i in maxo:\n",
    "        temps = []\n",
    "        perso = []\n",
    "        for j in i:\n",
    "            temps = listafinalv2[i[0]]\n",
    "            ste = []\n",
    "            for l in listaperf[j]:\n",
    "                ste.append(str(l)) # se usa str porque no es un string\n",
    "                ste = list(set(ste))\n",
    "            perso.extend(ste)\n",
    "            perso = list(set(perso))\n",
    "        pruelife.append((temps,perso))\n",
    "    # se retorna la lista con las locaciones y sus personas y las lista unicas\n",
    "    return pruelife, ubicacion2, persona2"
   ]
  },
  {
   "cell_type": "code",
   "execution_count": null,
   "metadata": {},
   "outputs": [],
   "source": [
    "# WARNING: NO SE UTILIZA\n",
    "def listadep6(lisg, doc):\n",
    "    oracion6 = re.sub(r'[,;:.]+', '', str(doc))\n",
    "    porlo = word_tokenize(oracion6)\n",
    "    for i in lisg:\n",
    "        dela = word_tokenize(str(i))\n",
    "        listapro = []\n",
    "        #print(dela)\n",
    "        #print(lisg[0].sent)\n",
    "        for l in dela:\n",
    "            for p, k in enumerate(porlo):\n",
    "                if l == k:\n",
    "                    listapro.append(p)\n",
    "        listapro = list(set(listapro))\n",
    "        listapro2 = []\n",
    "        for l in listapro:\n",
    "            count = 0\n",
    "            for k in listapro:\n",
    "                if abs(l - k) < len(dela):\n",
    "                    count = count + 1\n",
    "            if count == len(dela):\n",
    "                listapro2.append(l)\n",
    "        if listapro2 != []:\n",
    "            lp = listapro2[len(listapro2) - 1]\n",
    "            texto = ''\n",
    "            texto = str(i)\n",
    "            texto = texto.strip()\n",
    "            porlo[lp] = texto\n",
    "            for l in range(len(listapro2) - 1):\n",
    "                listapro2[l] = lp + (l + 1 - len(listapro2))\n",
    "            listapro2.pop(len(listapro2) - 1)\n",
    "            #print(porlo)\n",
    "            ##print(listapro)\n",
    "            listafin = []\n",
    "            for l in range(len(porlo)):\n",
    "                if l in listapro2:\n",
    "                    pass\n",
    "                else:\n",
    "                    listafin.append(porlo[l])\n",
    "            porlo = listafin\n",
    "        #print(porlo)\n",
    "    #print(porlo)\n",
    "    return porlo"
   ]
  },
  {
   "cell_type": "code",
   "execution_count": 4,
   "metadata": {},
   "outputs": [],
   "source": [
    "def listadep7(doc):\n",
    "    listaoword = []\n",
    "    for token in doc:\n",
    "        if token.ent_type_ == '':\n",
    "            a = str(token).split()\n",
    "            listaoword.extend(a)\n",
    "        else:\n",
    "            listaoword.append(str(token))\n",
    "    return listaoword\n",
    "#listadep7(per[0].doc)"
   ]
  },
  {
   "cell_type": "code",
   "execution_count": 23,
   "metadata": {},
   "outputs": [],
   "source": [
    "def proceso(listaprueba, max_word_distance):\n",
    "    listemp = []\n",
    "    listatuo = []\n",
    "    listadepubi = {'nmod', 'nsubj', 'obj'}\n",
    "    listadepper = {'appos','nsubj', 'obj'}\n",
    "    for k in listaprueba:\n",
    "        k = k.replace('.', '')\n",
    "        doc = nlp(k)\n",
    "        ubi = []\n",
    "        per = []\n",
    "        listauni = []\n",
    "        b = list(doc.noun_chunks)\n",
    "        with doc.retokenize() as retokenizer:\n",
    "            for noun_phrase in b:\n",
    "                attrs = {\n",
    "                    \"LEMMA\": noun_phrase.root.lemma_,\n",
    "                    \"DEP\": noun_phrase.root.dep_,\n",
    "                    \"ENT\": noun_phrase.root.ent_type_\n",
    "                }\n",
    "                retokenizer.merge(noun_phrase, attrs=attrs)\n",
    "        for token in doc:\n",
    "            if token.ent_type_ == 'LOC':\n",
    "                ubi.append(token)\n",
    "                listemp.append([token, listaprueba[0]])\n",
    "                listauni.append(token)\n",
    "            elif token.ent_type_ == 'PER':\n",
    "                per.append(token)\n",
    "                listemp.append([token, listaprueba[0]])\n",
    "                listauni.append(token)\n",
    "        if len(ubi) > 0 and len(per) > 0:\n",
    "            porlo = listadep7(per[0].doc)\n",
    "            for p1 in ubi:\n",
    "                for p2 in per:\n",
    "                    if p1.dep_ in listadepubi and p2.dep_ in listadepper:\n",
    "                        if abs(porlo.index(str(p1)) - porlo.index(str(p2))) < max_word_distance:\n",
    "                            # print(p1.dep_, p2.dep_, p1, p2)\n",
    "                            listarelat = [str(p1), str(p2), k, listaprueba[0]]\n",
    "                            listatuo.append(listarelat)\n",
    "    return listatuo, listemp"
   ]
  },
  {
   "cell_type": "code",
   "execution_count": 25,
   "metadata": {},
   "outputs": [],
   "source": [
    "df = pd.read_excel('Prueba de relatos.xlsx')"
   ]
  },
  {
   "cell_type": "code",
   "execution_count": 19,
   "metadata": {},
   "outputs": [
    {
     "name": "stderr",
     "output_type": "stream",
     "text": [
      "100%|██████████| 20/20 [00:16<00:00,  1.20it/s]\n"
     ]
    }
   ],
   "source": [
    "listatecnica = []\n",
    "for capitulo in tqdm(range(0,20)):\n",
    "    o = df['Texto'][capitulo]\n",
    "    o = re.sub('…', '...', o)\n",
    "    o = o.replace('...', '.')\n",
    "    listaprueba = sent_tokenize(o)\n",
    "    for j, i in enumerate(listaprueba):\n",
    "        if j == 0:\n",
    "            i = i.split('\\n')\n",
    "            i = i[0]\n",
    "        i = i.split('\\n')\n",
    "        i = ' '.join(i)\n",
    "        i = trans(i)\n",
    "        listaprueba[j] = i.strip()\n",
    "    listatuo2, listatemp1 = proceso(listaprueba)\n",
    "    listatecnica.extend(listatuo2)"
   ]
  },
  {
   "cell_type": "code",
   "execution_count": 20,
   "metadata": {},
   "outputs": [],
   "source": [
    "#nsubj appos\n",
    "#obj nsubj \n",
    "#nsubj nsubj\n",
    "#nsubj obj\n",
    "#appos nsubj\n",
    "#aposs obj\n",
    "#nmod obj\n",
    "df3 = pd.DataFrame(listatecnica)"
   ]
  },
  {
   "cell_type": "code",
   "execution_count": 21,
   "metadata": {},
   "outputs": [],
   "source": [
    "df3.to_excel('relacionesconectadas3.xlsx')\n",
    "#df3=pd.read_excel('relacionesconectadas.xlsx')"
   ]
  },
  {
   "cell_type": "code",
   "execution_count": 22,
   "metadata": {},
   "outputs": [],
   "source": [
    "df = pd.read_excel('Relatos_viajes-Benvenutto.xlsx')"
   ]
  },
  {
   "cell_type": "code",
   "execution_count": 15,
   "metadata": {},
   "outputs": [
    {
     "name": "stderr",
     "output_type": "stream",
     "text": [
      "100%|██████████| 20/20 [00:17<00:00,  1.17it/s]\n"
     ]
    }
   ],
   "source": [
    "listemp = []\n",
    "for capitulo in tqdm(range(0, 20)):\n",
    "    o = df['Texto'][capitulo]\n",
    "    o = re.sub('…', '...', o)\n",
    "    o = o.replace('...', '.')\n",
    "    listaprueba = sent_tokenize(o)\n",
    "    for j, i in enumerate(listaprueba):\n",
    "        if j == 0:\n",
    "            i = i.split('\\n')\n",
    "            i = i[0]\n",
    "        i = i.split('\\n')\n",
    "        i = ' '.join(i)\n",
    "        i = trans(i)\n",
    "        listaprueba[j] = i.strip()\n",
    "    for k in listaprueba:\n",
    "        k = k.replace('.','')\n",
    "        k = k.replace(':','')\n",
    "        doc = nlp(k)\n",
    "        b = list(doc.noun_chunks)\n",
    "        with doc.retokenize() as retokenizer:\n",
    "            for noun_phrase in b:\n",
    "                attrs = {\n",
    "                    \"LEMMA\": noun_phrase.root.lemma_,\n",
    "                    \"DEP\": noun_phrase.root.dep_,\n",
    "                    \"ENT\": noun_phrase.root.ent_type_\n",
    "                }\n",
    "                retokenizer.merge(noun_phrase, attrs=attrs)\n",
    "        for token in doc:\n",
    "            if token.ent_type_ != '':\n",
    "                #print(token)\n",
    "                listemp.append([token, listaprueba[0]])"
   ]
  },
  {
   "cell_type": "code",
   "execution_count": 16,
   "metadata": {},
   "outputs": [],
   "source": [
    "locaciones = []\n",
    "personas = []\n",
    "for i in listemp:\n",
    "    if i[0].ent_type_ == 'LOC':\n",
    "        locaciones.append(i)\n",
    "    if i[0].ent_type_ == 'PER':\n",
    "        personas.append(i)"
   ]
  },
  {
   "cell_type": "code",
   "execution_count": 26,
   "metadata": {},
   "outputs": [
    {
     "data": {
      "text/plain": [
       "(1369, 1455)"
      ]
     },
     "execution_count": 26,
     "metadata": {},
     "output_type": "execute_result"
    }
   ],
   "source": [
    "len(personas), len(locaciones)"
   ]
  },
  {
   "cell_type": "code",
   "execution_count": null,
   "metadata": {},
   "outputs": [],
   "source": [
    "#personas \"appos,nmod,nsubj,obj,flat\"\n",
    "#ubicaciones nmod"
   ]
  },
  {
   "cell_type": "code",
   "execution_count": 27,
   "metadata": {
    "scrolled": true
   },
   "outputs": [],
   "source": [
    "df5=pd.DataFrame(personas)\n",
    "df5.to_excel('personas.xlsx')"
   ]
  },
  {
   "cell_type": "code",
   "execution_count": 29,
   "metadata": {},
   "outputs": [
    {
     "data": {
      "text/html": [
       "<div>\n",
       "<style scoped>\n",
       "    .dataframe tbody tr th:only-of-type {\n",
       "        vertical-align: middle;\n",
       "    }\n",
       "\n",
       "    .dataframe tbody tr th {\n",
       "        vertical-align: top;\n",
       "    }\n",
       "\n",
       "    .dataframe thead th {\n",
       "        text-align: right;\n",
       "    }\n",
       "</style>\n",
       "<table border=\"1\" class=\"dataframe\">\n",
       "  <thead>\n",
       "    <tr style=\"text-align: right;\">\n",
       "      <th></th>\n",
       "      <th>0</th>\n",
       "      <th>1</th>\n",
       "      <th>2</th>\n",
       "      <th>3</th>\n",
       "    </tr>\n",
       "  </thead>\n",
       "  <tbody>\n",
       "    <tr>\n",
       "      <th>0</th>\n",
       "      <td>Segura</td>\n",
       "      <td>Montero</td>\n",
       "      <td>Gritan los mocitos Por todo el Cercau Traigan ...</td>\n",
       "      <td>la Placita de la Recoleta</td>\n",
       "    </tr>\n",
       "    <tr>\n",
       "      <th>1</th>\n",
       "      <td>Segura</td>\n",
       "      <td>Caucau Muestras</td>\n",
       "      <td>Gritan los mocitos Por todo el Cercau Traigan ...</td>\n",
       "      <td>la Placita de la Recoleta</td>\n",
       "    </tr>\n",
       "    <tr>\n",
       "      <th>2</th>\n",
       "      <td>Lima</td>\n",
       "      <td>José Santos</td>\n",
       "      <td>Más al centro de la plazuela hay una pila, clá...</td>\n",
       "      <td>la Placita de la Recoleta</td>\n",
       "    </tr>\n",
       "    <tr>\n",
       "      <th>3</th>\n",
       "      <td>Lima</td>\n",
       "      <td>Vénzalo</td>\n",
       "      <td>Es el Hospicio un refugio de viejas tradicione...</td>\n",
       "      <td>la Placita de la Recoleta</td>\n",
       "    </tr>\n",
       "    <tr>\n",
       "      <th>4</th>\n",
       "      <td>San Francisco de Paula</td>\n",
       "      <td>Vénzalo</td>\n",
       "      <td>Es el Hospicio un refugio de viejas tradicione...</td>\n",
       "      <td>la Placita de la Recoleta</td>\n",
       "    </tr>\n",
       "    <tr>\n",
       "      <th>...</th>\n",
       "      <td>...</td>\n",
       "      <td>...</td>\n",
       "      <td>...</td>\n",
       "      <td>...</td>\n",
       "    </tr>\n",
       "    <tr>\n",
       "      <th>146</th>\n",
       "      <td>la Bella Jardinera</td>\n",
       "      <td>Carlitos Bar</td>\n",
       "      <td>No nos conviene ahora caminar toda la calle, l...</td>\n",
       "      <td>La  Plaza de Armas</td>\n",
       "    </tr>\n",
       "    <tr>\n",
       "      <th>147</th>\n",
       "      <td>Prado</td>\n",
       "      <td>Maitines</td>\n",
       "      <td>Aun antes que las vocingleras campanitas conve...</td>\n",
       "      <td>La  Plaza de Armas</td>\n",
       "    </tr>\n",
       "    <tr>\n",
       "      <th>148</th>\n",
       "      <td>Enero</td>\n",
       "      <td>Maitines</td>\n",
       "      <td>Aun antes que las vocingleras campanitas conve...</td>\n",
       "      <td>La  Plaza de Armas</td>\n",
       "    </tr>\n",
       "    <tr>\n",
       "      <th>149</th>\n",
       "      <td>Ayacucho</td>\n",
       "      <td>Pedro Castre</td>\n",
       "      <td>Pedro Castre, cuando estuvo de administrador d...</td>\n",
       "      <td>La  Plaza de Armas</td>\n",
       "    </tr>\n",
       "    <tr>\n",
       "      <th>150</th>\n",
       "      <td>Ayacucho</td>\n",
       "      <td>Angelino Chaves</td>\n",
       "      <td>Pedro Castre, cuando estuvo de administrador d...</td>\n",
       "      <td>La  Plaza de Armas</td>\n",
       "    </tr>\n",
       "  </tbody>\n",
       "</table>\n",
       "<p>151 rows × 4 columns</p>\n",
       "</div>"
      ],
      "text/plain": [
       "                          0                1  \\\n",
       "0                    Segura          Montero   \n",
       "1                    Segura  Caucau Muestras   \n",
       "2                      Lima      José Santos   \n",
       "3                      Lima          Vénzalo   \n",
       "4    San Francisco de Paula          Vénzalo   \n",
       "..                      ...              ...   \n",
       "146      la Bella Jardinera     Carlitos Bar   \n",
       "147                   Prado         Maitines   \n",
       "148                   Enero         Maitines   \n",
       "149                Ayacucho     Pedro Castre   \n",
       "150                Ayacucho  Angelino Chaves   \n",
       "\n",
       "                                                     2  \\\n",
       "0    Gritan los mocitos Por todo el Cercau Traigan ...   \n",
       "1    Gritan los mocitos Por todo el Cercau Traigan ...   \n",
       "2    Más al centro de la plazuela hay una pila, clá...   \n",
       "3    Es el Hospicio un refugio de viejas tradicione...   \n",
       "4    Es el Hospicio un refugio de viejas tradicione...   \n",
       "..                                                 ...   \n",
       "146  No nos conviene ahora caminar toda la calle, l...   \n",
       "147  Aun antes que las vocingleras campanitas conve...   \n",
       "148  Aun antes que las vocingleras campanitas conve...   \n",
       "149  Pedro Castre, cuando estuvo de administrador d...   \n",
       "150  Pedro Castre, cuando estuvo de administrador d...   \n",
       "\n",
       "                             3  \n",
       "0    la Placita de la Recoleta  \n",
       "1    la Placita de la Recoleta  \n",
       "2    la Placita de la Recoleta  \n",
       "3    la Placita de la Recoleta  \n",
       "4    la Placita de la Recoleta  \n",
       "..                         ...  \n",
       "146         La  Plaza de Armas  \n",
       "147         La  Plaza de Armas  \n",
       "148         La  Plaza de Armas  \n",
       "149         La  Plaza de Armas  \n",
       "150         La  Plaza de Armas  \n",
       "\n",
       "[151 rows x 4 columns]"
      ]
     },
     "execution_count": 29,
     "metadata": {},
     "output_type": "execute_result"
    }
   ],
   "source": [
    "df3"
   ]
  },
  {
   "cell_type": "code",
   "execution_count": 52,
   "metadata": {},
   "outputs": [
    {
     "data": {
      "text/html": [
       "<div>\n",
       "<style scoped>\n",
       "    .dataframe tbody tr th:only-of-type {\n",
       "        vertical-align: middle;\n",
       "    }\n",
       "\n",
       "    .dataframe tbody tr th {\n",
       "        vertical-align: top;\n",
       "    }\n",
       "\n",
       "    .dataframe thead th {\n",
       "        text-align: right;\n",
       "    }\n",
       "</style>\n",
       "<table border=\"1\" class=\"dataframe\">\n",
       "  <thead>\n",
       "    <tr style=\"text-align: right;\">\n",
       "      <th></th>\n",
       "      <th>0</th>\n",
       "      <th>1</th>\n",
       "      <th>2</th>\n",
       "      <th>3</th>\n",
       "    </tr>\n",
       "  </thead>\n",
       "  <tbody>\n",
       "    <tr>\n",
       "      <th>89</th>\n",
       "      <td>la Micheo</td>\n",
       "      <td>Don Manuel</td>\n",
       "      <td>Don Manuel es el historiador popular de la pla...</td>\n",
       "      <td>La Plazuela de San Juan de Dios</td>\n",
       "    </tr>\n",
       "  </tbody>\n",
       "</table>\n",
       "</div>"
      ],
      "text/plain": [
       "            0           1                                                  2  \\\n",
       "89  la Micheo  Don Manuel  Don Manuel es el historiador popular de la pla...   \n",
       "\n",
       "                                  3  \n",
       "89  La Plazuela de San Juan de Dios  "
      ]
     },
     "execution_count": 52,
     "metadata": {},
     "output_type": "execute_result"
    }
   ],
   "source": [
    "df3[df3[0]=='la Micheo']"
   ]
  },
  {
   "cell_type": "code",
   "execution_count": 40,
   "metadata": {},
   "outputs": [],
   "source": [
    "listalocs=df3[0].tolist()"
   ]
  },
  {
   "cell_type": "code",
   "execution_count": 41,
   "metadata": {},
   "outputs": [],
   "source": [
    "listalocs=list(set(listalocs))"
   ]
  },
  {
   "cell_type": "code",
   "execution_count": 44,
   "metadata": {},
   "outputs": [],
   "source": [
    "listaer=[]\n",
    "for i in listalocs:\n",
    "    a=df3[df3[0]==i]\n",
    "    perso=a[1].tolist()\n",
    "    listad=[i, perso, len(perso)]\n",
    "    listaer.append(listad)"
   ]
  },
  {
   "cell_type": "code",
   "execution_count": 45,
   "metadata": {},
   "outputs": [],
   "source": [
    "dfg=pd.DataFrame(listaer, columns=['Loc', 'Personas', 'Cant'])"
   ]
  },
  {
   "cell_type": "code",
   "execution_count": 46,
   "metadata": {},
   "outputs": [
    {
     "data": {
      "text/html": [
       "<div>\n",
       "<style scoped>\n",
       "    .dataframe tbody tr th:only-of-type {\n",
       "        vertical-align: middle;\n",
       "    }\n",
       "\n",
       "    .dataframe tbody tr th {\n",
       "        vertical-align: top;\n",
       "    }\n",
       "\n",
       "    .dataframe thead th {\n",
       "        text-align: right;\n",
       "    }\n",
       "</style>\n",
       "<table border=\"1\" class=\"dataframe\">\n",
       "  <thead>\n",
       "    <tr style=\"text-align: right;\">\n",
       "      <th></th>\n",
       "      <th>Loc</th>\n",
       "      <th>Personas</th>\n",
       "      <th>Cant</th>\n",
       "    </tr>\n",
       "  </thead>\n",
       "  <tbody>\n",
       "    <tr>\n",
       "      <th>7</th>\n",
       "      <td>Lima</td>\n",
       "      <td>[José Santos, Vénzalo, Señor, Domo, Timoteo, e...</td>\n",
       "      <td>12</td>\n",
       "    </tr>\n",
       "    <tr>\n",
       "      <th>17</th>\n",
       "      <td>San Juan de Dios</td>\n",
       "      <td>[Boza, Juan de Arona, Dominguito Vallerriestra...</td>\n",
       "      <td>5</td>\n",
       "    </tr>\n",
       "    <tr>\n",
       "      <th>22</th>\n",
       "      <td>la Amargura</td>\n",
       "      <td>[Rafael Ramírez, Braulia, Santitos Posada, Chá...</td>\n",
       "      <td>4</td>\n",
       "    </tr>\n",
       "    <tr>\n",
       "      <th>60</th>\n",
       "      <td>Belén</td>\n",
       "      <td>[Bernardo Monteagudo, María Inmaculada, Belén]</td>\n",
       "      <td>3</td>\n",
       "    </tr>\n",
       "    <tr>\n",
       "      <th>41</th>\n",
       "      <td>Guadalupe</td>\n",
       "      <td>[Biedma, Juan Nepomuceno Vargas, Jesús Bravo]</td>\n",
       "      <td>3</td>\n",
       "    </tr>\n",
       "    <tr>\n",
       "      <th>...</th>\n",
       "      <td>...</td>\n",
       "      <td>...</td>\n",
       "      <td>...</td>\n",
       "    </tr>\n",
       "    <tr>\n",
       "      <th>38</th>\n",
       "      <td>Zamba</td>\n",
       "      <td>[Albizuri]</td>\n",
       "      <td>1</td>\n",
       "    </tr>\n",
       "    <tr>\n",
       "      <th>37</th>\n",
       "      <td>Casapalca a Lima</td>\n",
       "      <td>[Subprefecto]</td>\n",
       "      <td>1</td>\n",
       "    </tr>\n",
       "    <tr>\n",
       "      <th>36</th>\n",
       "      <td>Lemos</td>\n",
       "      <td>[Ilustrísimo Villagómez]</td>\n",
       "      <td>1</td>\n",
       "    </tr>\n",
       "    <tr>\n",
       "      <th>35</th>\n",
       "      <td>Azpeytia</td>\n",
       "      <td>[Moliére]</td>\n",
       "      <td>1</td>\n",
       "    </tr>\n",
       "    <tr>\n",
       "      <th>110</th>\n",
       "      <td>Galera</td>\n",
       "      <td>[Subprefecto]</td>\n",
       "      <td>1</td>\n",
       "    </tr>\n",
       "  </tbody>\n",
       "</table>\n",
       "<p>111 rows × 3 columns</p>\n",
       "</div>"
      ],
      "text/plain": [
       "                  Loc                                           Personas  Cant\n",
       "7                Lima  [José Santos, Vénzalo, Señor, Domo, Timoteo, e...    12\n",
       "17   San Juan de Dios  [Boza, Juan de Arona, Dominguito Vallerriestra...     5\n",
       "22        la Amargura  [Rafael Ramírez, Braulia, Santitos Posada, Chá...     4\n",
       "60              Belén     [Bernardo Monteagudo, María Inmaculada, Belén]     3\n",
       "41          Guadalupe      [Biedma, Juan Nepomuceno Vargas, Jesús Bravo]     3\n",
       "..                ...                                                ...   ...\n",
       "38              Zamba                                         [Albizuri]     1\n",
       "37   Casapalca a Lima                                      [Subprefecto]     1\n",
       "36              Lemos                           [Ilustrísimo Villagómez]     1\n",
       "35           Azpeytia                                          [Moliére]     1\n",
       "110            Galera                                      [Subprefecto]     1\n",
       "\n",
       "[111 rows x 3 columns]"
      ]
     },
     "execution_count": 46,
     "metadata": {},
     "output_type": "execute_result"
    }
   ],
   "source": [
    "dfg.sort_values('Cant', ascending=False)"
   ]
  },
  {
   "cell_type": "code",
   "execution_count": 53,
   "metadata": {},
   "outputs": [
    {
     "name": "stdout",
     "output_type": "stream",
     "text": [
      "151\n"
     ]
    }
   ],
   "source": [
    "print(dfg['Cant'].sum())"
   ]
  },
  {
   "cell_type": "code",
   "execution_count": 86,
   "metadata": {},
   "outputs": [
    {
     "name": "stderr",
     "output_type": "stream",
     "text": [
      "100%|██████████| 20/20 [00:15<00:00,  1.26it/s]\n",
      "100%|██████████| 20/20 [00:15<00:00,  1.29it/s]\n",
      "100%|██████████| 20/20 [00:15<00:00,  1.31it/s]\n",
      "100%|██████████| 20/20 [00:15<00:00,  1.31it/s]\n",
      "100%|██████████| 20/20 [00:15<00:00,  1.29it/s]\n",
      "100%|██████████| 20/20 [00:15<00:00,  1.30it/s]\n",
      "100%|██████████| 20/20 [00:15<00:00,  1.30it/s]\n",
      "100%|██████████| 20/20 [00:15<00:00,  1.31it/s]\n",
      "100%|██████████| 20/20 [00:15<00:00,  1.26it/s]\n",
      "100%|██████████| 20/20 [00:15<00:00,  1.31it/s]\n",
      "100%|██████████| 20/20 [00:15<00:00,  1.30it/s]\n",
      "100%|██████████| 20/20 [00:14<00:00,  1.34it/s]\n",
      "100%|██████████| 20/20 [00:15<00:00,  1.31it/s]\n",
      "100%|██████████| 20/20 [00:14<00:00,  1.35it/s]\n",
      "100%|██████████| 20/20 [00:15<00:00,  1.31it/s]\n",
      "100%|██████████| 20/20 [00:15<00:00,  1.30it/s]\n",
      "100%|██████████| 20/20 [00:15<00:00,  1.31it/s]\n",
      "100%|██████████| 20/20 [00:15<00:00,  1.29it/s]\n",
      "100%|██████████| 20/20 [00:15<00:00,  1.30it/s]\n",
      "100%|██████████| 20/20 [00:15<00:00,  1.31it/s]\n",
      "100%|██████████| 20/20 [00:15<00:00,  1.30it/s]\n",
      "100%|██████████| 20/20 [00:14<00:00,  1.34it/s]\n",
      "100%|██████████| 20/20 [00:16<00:00,  1.23it/s]\n",
      "100%|██████████| 20/20 [01:37<00:00,  4.87s/it]\n",
      "100%|██████████| 20/20 [00:17<00:00,  1.12it/s]\n",
      "100%|██████████| 20/20 [00:16<00:00,  1.21it/s]\n",
      "100%|██████████| 20/20 [00:16<00:00,  1.20it/s]\n",
      "100%|██████████| 20/20 [00:17<00:00,  1.18it/s]\n",
      "100%|██████████| 20/20 [00:18<00:00,  1.09it/s]\n",
      "100%|██████████| 20/20 [00:15<00:00,  1.25it/s]\n",
      "100%|██████████| 20/20 [00:15<00:00,  1.27it/s]\n",
      "100%|██████████| 20/20 [00:18<00:00,  1.07it/s]\n",
      "100%|██████████| 20/20 [00:17<00:00,  1.15it/s]\n",
      "100%|██████████| 20/20 [00:17<00:00,  1.16it/s]\n",
      "100%|██████████| 20/20 [00:16<00:00,  1.23it/s]\n",
      "100%|██████████| 20/20 [00:16<00:00,  1.23it/s]\n",
      "100%|██████████| 20/20 [00:17<00:00,  1.16it/s]\n",
      "100%|██████████| 20/20 [00:16<00:00,  1.25it/s]\n",
      "100%|██████████| 20/20 [00:16<00:00,  1.23it/s]\n",
      "100%|██████████| 20/20 [00:16<00:00,  1.20it/s]\n",
      "100%|██████████| 20/20 [00:16<00:00,  1.19it/s]\n",
      "100%|██████████| 20/20 [00:16<00:00,  1.18it/s]\n",
      "100%|██████████| 20/20 [00:15<00:00,  1.27it/s]\n",
      "100%|██████████| 20/20 [00:15<00:00,  1.28it/s]\n",
      "100%|██████████| 20/20 [00:15<00:00,  1.30it/s]\n",
      "100%|██████████| 20/20 [00:16<00:00,  1.21it/s]\n",
      "100%|██████████| 20/20 [00:16<00:00,  1.23it/s]\n",
      "100%|██████████| 20/20 [00:15<00:00,  1.32it/s]\n",
      "100%|██████████| 20/20 [00:15<00:00,  1.31it/s]\n",
      "100%|██████████| 20/20 [00:15<00:00,  1.31it/s]\n",
      "100%|██████████| 20/20 [00:15<00:00,  1.32it/s]\n",
      "100%|██████████| 20/20 [00:15<00:00,  1.30it/s]\n",
      "100%|██████████| 20/20 [00:15<00:00,  1.31it/s]\n",
      "100%|██████████| 20/20 [00:15<00:00,  1.31it/s]\n",
      "100%|██████████| 20/20 [00:15<00:00,  1.31it/s]\n",
      "100%|██████████| 20/20 [00:15<00:00,  1.30it/s]\n",
      "100%|██████████| 20/20 [00:15<00:00,  1.31it/s]\n",
      "100%|██████████| 20/20 [00:15<00:00,  1.29it/s]\n",
      "100%|██████████| 20/20 [00:15<00:00,  1.30it/s]\n",
      "100%|██████████| 20/20 [00:15<00:00,  1.32it/s]\n",
      "100%|██████████| 20/20 [00:15<00:00,  1.31it/s]\n",
      "100%|██████████| 20/20 [00:15<00:00,  1.30it/s]\n",
      "100%|██████████| 20/20 [00:15<00:00,  1.29it/s]\n",
      "100%|██████████| 20/20 [00:15<00:00,  1.31it/s]\n",
      "100%|██████████| 20/20 [00:15<00:00,  1.30it/s]\n",
      "100%|██████████| 20/20 [00:15<00:00,  1.30it/s]\n",
      "100%|██████████| 20/20 [00:15<00:00,  1.30it/s]\n",
      "100%|██████████| 20/20 [00:15<00:00,  1.31it/s]\n",
      "100%|██████████| 20/20 [00:15<00:00,  1.27it/s]\n",
      "100%|██████████| 20/20 [00:15<00:00,  1.31it/s]\n",
      "100%|██████████| 20/20 [00:15<00:00,  1.30it/s]\n",
      "100%|██████████| 20/20 [00:15<00:00,  1.32it/s]\n",
      "100%|██████████| 20/20 [00:15<00:00,  1.29it/s]\n",
      "100%|██████████| 20/20 [00:15<00:00,  1.30it/s]\n",
      "100%|██████████| 20/20 [00:15<00:00,  1.29it/s]\n",
      "100%|██████████| 20/20 [00:15<00:00,  1.32it/s]\n",
      "100%|██████████| 20/20 [00:15<00:00,  1.29it/s]\n",
      "100%|██████████| 20/20 [00:15<00:00,  1.31it/s]\n",
      "100%|██████████| 20/20 [00:15<00:00,  1.31it/s]\n",
      "100%|██████████| 20/20 [00:15<00:00,  1.32it/s]\n",
      "100%|██████████| 20/20 [00:15<00:00,  1.27it/s]\n",
      "100%|██████████| 20/20 [00:15<00:00,  1.31it/s]\n",
      "100%|██████████| 20/20 [00:15<00:00,  1.30it/s]\n",
      "100%|██████████| 20/20 [00:15<00:00,  1.33it/s]\n",
      "100%|██████████| 20/20 [00:15<00:00,  1.30it/s]\n",
      "100%|██████████| 20/20 [00:15<00:00,  1.29it/s]\n",
      "100%|██████████| 20/20 [00:15<00:00,  1.29it/s]\n",
      "100%|██████████| 20/20 [00:15<00:00,  1.31it/s]\n",
      "100%|██████████| 20/20 [00:16<00:00,  1.23it/s]\n",
      "100%|██████████| 20/20 [00:49<00:00,  2.47s/it]\n",
      "100%|██████████| 20/20 [00:15<00:00,  1.32it/s]\n",
      "100%|██████████| 20/20 [00:15<00:00,  1.31it/s]\n",
      "100%|██████████| 20/20 [18:31<00:00, 55.60s/it] \n",
      "100%|██████████| 20/20 [00:16<00:00,  1.19it/s]\n",
      "100%|██████████| 20/20 [00:15<00:00,  1.27it/s]\n",
      "100%|██████████| 20/20 [00:15<00:00,  1.29it/s]\n"
     ]
    }
   ],
   "source": [
    "word_dists = list(range(2, 50))\n",
    "n_relations = []\n",
    "\n",
    "for word_dist in word_dists:\n",
    "    listatecnica = []\n",
    "    for capitulo in tqdm(range(0,20)):\n",
    "        o = df['Texto'][capitulo]\n",
    "        o = re.sub('…', '...', o)\n",
    "        o = o.replace('...', '.')\n",
    "        listaprueba = sent_tokenize(o)\n",
    "        for j, i in enumerate(listaprueba):\n",
    "            if j == 0:\n",
    "                i = i.split('\\n')\n",
    "                i = i[0]\n",
    "            i = i.split('\\n')\n",
    "            i = ' '.join(i)\n",
    "            i = trans(i)\n",
    "            listaprueba[j] = i.strip()\n",
    "        listatuo2, listatemp1 = proceso(listaprueba, word_dist)\n",
    "        listatecnica.extend(listatuo2)\n",
    "\n",
    "    df3 = pd.DataFrame(listatecnica)\n",
    "    listalocs = df3[0].tolist()\n",
    "    listalocs = list(set(listalocs))\n",
    "\n",
    "    listemp = []\n",
    "    for capitulo in tqdm(range(0, 20)):\n",
    "        o = df['Texto'][capitulo]\n",
    "        o = re.sub('…', '...', o)\n",
    "        o = o.replace('...', '.')\n",
    "        listaprueba = sent_tokenize(o)\n",
    "        for j, i in enumerate(listaprueba):\n",
    "            if j == 0:\n",
    "                i = i.split('\\n')\n",
    "                i = i[0]\n",
    "            i = i.split('\\n')\n",
    "            i = ' '.join(i)\n",
    "            i = trans(i)\n",
    "            listaprueba[j] = i.strip()\n",
    "        for k in listaprueba:\n",
    "            k = k.replace('.','')\n",
    "            k = k.replace(':','')\n",
    "            doc = nlp(k)\n",
    "            b = list(doc.noun_chunks)\n",
    "            with doc.retokenize() as retokenizer:\n",
    "                for noun_phrase in b:\n",
    "                    attrs = {\n",
    "                        \"LEMMA\": noun_phrase.root.lemma_,\n",
    "                        \"DEP\": noun_phrase.root.dep_,\n",
    "                        \"ENT\": noun_phrase.root.ent_type_\n",
    "                    }\n",
    "                    retokenizer.merge(noun_phrase, attrs=attrs)\n",
    "            for token in doc:\n",
    "                if token.ent_type_ != '':\n",
    "                    #print(token)\n",
    "                    listemp.append([token, listaprueba[0]])\n",
    "\n",
    "    listaer=[]\n",
    "    for i in listalocs:\n",
    "        a = df3[df3[0] == i]\n",
    "        perso = a[1].tolist()\n",
    "        listad = [i, perso, len(perso)]\n",
    "        listaer.append(listad)\n",
    "\n",
    "    dfg=pd.DataFrame(listaer, columns=['Loc', 'Personas', 'Cant'])\n",
    "    n_relations.append(dfg['Cant'].sum())"
   ]
  },
  {
   "cell_type": "code",
   "execution_count": 87,
   "metadata": {},
   "outputs": [],
   "source": [
    "import matplotlib.pyplot as plt"
   ]
  },
  {
   "cell_type": "code",
   "execution_count": 137,
   "metadata": {},
   "outputs": [
    {
     "data": {
      "text/plain": [
       "1369"
      ]
     },
     "execution_count": 137,
     "metadata": {},
     "output_type": "execute_result"
    }
   ],
   "source": [
    "min(len(personas), len(locaciones))"
   ]
  },
  {
   "cell_type": "code",
   "execution_count": 135,
   "metadata": {},
   "outputs": [
    {
     "data": {
      "text/plain": [
       "0.940893470790378"
      ]
     },
     "execution_count": 135,
     "metadata": {},
     "output_type": "execute_result"
    }
   ],
   "source": [
    "len(personas) / len(locaciones)"
   ]
  },
  {
   "cell_type": "code",
   "execution_count": 138,
   "metadata": {},
   "outputs": [
    {
     "data": {
      "text/plain": [
       "[0.0006872852233676976,\n",
       " 0.003436426116838488,\n",
       " 0.004810996563573883,\n",
       " 0.01168384879725086,\n",
       " 0.019243986254295534,\n",
       " 0.027491408934707903,\n",
       " 0.03505154639175258,\n",
       " 0.04329896907216495,\n",
       " 0.052920962199312714,\n",
       " 0.06391752577319587,\n",
       " 0.06804123711340206,\n",
       " 0.07216494845360824,\n",
       " 0.07491408934707904,\n",
       " 0.08041237113402062,\n",
       " 0.0838487972508591,\n",
       " 0.09072164948453608,\n",
       " 0.09484536082474226,\n",
       " 0.09690721649484536,\n",
       " 0.10103092783505155,\n",
       " 0.10378006872852234,\n",
       " 0.10927835051546392,\n",
       " 0.1134020618556701,\n",
       " 0.1154639175257732,\n",
       " 0.12096219931271476,\n",
       " 0.12508591065292096,\n",
       " 0.13127147766323025,\n",
       " 0.1360824742268041,\n",
       " 0.140893470790378,\n",
       " 0.1429553264604811,\n",
       " 0.1450171821305842,\n",
       " 0.1457044673539519,\n",
       " 0.14845360824742268,\n",
       " 0.14982817869415807,\n",
       " 0.15189003436426116,\n",
       " 0.15463917525773194,\n",
       " 0.15670103092783505,\n",
       " 0.15807560137457044,\n",
       " 0.16013745704467353,\n",
       " 0.1628865979381443,\n",
       " 0.16357388316151203,\n",
       " 0.16426116838487972,\n",
       " 0.16563573883161511,\n",
       " 0.1670103092783505,\n",
       " 0.1697594501718213,\n",
       " 0.17044673539518904,\n",
       " 0.1725085910652921,\n",
       " 0.17457044673539518,\n",
       " 0.17525773195876287]"
      ]
     },
     "execution_count": 138,
     "metadata": {},
     "output_type": "execute_result"
    }
   ],
   "source": [
    "[(n / min(len(personas), len(locaciones)))* len(personas) / len(locaciones) for n in n_relations]"
   ]
  },
  {
   "cell_type": "code",
   "execution_count": 92,
   "metadata": {},
   "outputs": [
    {
     "data": {
      "image/png": "[encoded data removed]",
      "text/plain": [
       "<Figure size 1080x360 with 1 Axes>"
      ]
     },
     "metadata": {
      "needs_background": "light"
     },
     "output_type": "display_data"
    }
   ],
   "source": [
    "fig = plt.figure(figsize=(15,5))\n",
    "plt.plot(word_dists, n_relations, marker='o')\n",
    "plt.xticks(word_dists)\n",
    "plt.show()"
   ]
  },
  {
   "cell_type": "code",
   "execution_count": 162,
   "metadata": {},
   "outputs": [
    {
     "data": {
      "image/png": "[encoded data removed]",
      "text/plain": [
       "<Figure size 1080x360 with 1 Axes>"
      ]
     },
     "metadata": {
      "needs_background": "light"
     },
     "output_type": "display_data"
    }
   ],
   "source": [
    "fig = plt.figure(figsize=(15,5))\n",
    "plt.plot(word_dists, [1 - (n / len(personas)) for n in n_relations], marker='o')\n",
    "plt.xticks(word_dists)\n",
    "plt.show()\n"
   ]
  },
  {
   "cell_type": "markdown",
   "metadata": {},
   "source": [
    "### Make map"
   ]
  },
  {
   "cell_type": "code",
   "execution_count": 32,
   "metadata": {},
   "outputs": [],
   "source": [
    "df4 = pd.read_excel('../Visualization/Plazuelas.xlsx')"
   ]
  },
  {
   "cell_type": "code",
   "execution_count": 33,
   "metadata": {},
   "outputs": [],
   "source": [
    "lista = []\n",
    "for i in range(len(df4)):\n",
    "    lista.append('Chávez')"
   ]
  },
  {
   "cell_type": "code",
   "execution_count": 34,
   "metadata": {},
   "outputs": [],
   "source": [
    "df4['Personajes'] = lista"
   ]
  },
  {
   "cell_type": "code",
   "execution_count": 35,
   "metadata": {},
   "outputs": [
    {
     "name": "stderr",
     "output_type": "stream",
     "text": [
      "<ipython-input-35-d9d881779c2b>:2: SettingWithCopyWarning: \n",
      "A value is trying to be set on a copy of a slice from a DataFrame\n",
      "\n",
      "See the caveats in the documentation: https://pandas.pydata.org/pandas-docs/stable/user_guide/indexing.html#returning-a-view-versus-a-copy\n",
      "  df4['Personajes'][13]='Chávez, Manuel Gálvez'\n"
     ]
    }
   ],
   "source": [
    "#df4['Personajes'][15]='Felipe Barreda'\n",
    "df4['Personajes'][13] = 'Chávez, Manuel Gálvez'"
   ]
  },
  {
   "cell_type": "code",
   "execution_count": 39,
   "metadata": {},
   "outputs": [],
   "source": [
    "import plotly.express as px\n",
    "\n",
    "listazero = [10] * len(df4)\n",
    "fig = px.scatter_mapbox(df4, lat=\"lat\", lon=\"lon\", hover_name=\"Plazuelas\", hover_data=['Lugar actual', 'Personajes'],\n",
    "                        color_discrete_sequence=[\"red\"], zoom=12, height=700, size=listazero)\n",
    "\n",
    "fig.update_layout(mapbox_style=\"open-street-map\")\n",
    "fig.write_html('map.html')"
   ]
  },
  {
   "cell_type": "code",
   "execution_count": 97,
   "metadata": {},
   "outputs": [],
   "source": [
    "complete_text = ' '.join(df['Texto'].tolist())"
   ]
  },
  {
   "cell_type": "code",
   "execution_count": 99,
   "metadata": {},
   "outputs": [],
   "source": [
    "sentences = sent_tokenize(complete_text, language='spanish')"
   ]
  },
  {
   "cell_type": "code",
   "execution_count": 100,
   "metadata": {},
   "outputs": [
    {
     "data": {
      "text/plain": [
       "2035"
      ]
     },
     "execution_count": 100,
     "metadata": {},
     "output_type": "execute_result"
    }
   ],
   "source": [
    "len(sentences)"
   ]
  },
  {
   "cell_type": "code",
   "execution_count": 102,
   "metadata": {},
   "outputs": [
    {
     "data": {
      "text/plain": [
       "'LA PLACITA de la RECOLETA\\nA Francisco Mendoza y Canaval\\nSALIENDO DE LA CALLE DE BELÉN, la mejor y más aristocrática de las calles de la capital, residencia de las familias de buen tono: Soyer y Cabero, Álvarez Calderón, CanavalSoria, Alayza, Irribarren, etc., etc., entre las cuales se ha venido a colar, no se sabe cómo, una fabrica de cigarrillos, la del gordo judío alemán Cohen, propietario de las afamadas marcas “Garibaldi”, “Almirante Grau” y “Huáscar”, y “como quien se va” a la exposición, se llega a un trozo de peña colocado en la esquina a manera de guardacantón y sobre el que todos los chicos del barrio cada vez que pasan junto a él, tienen la ineludible obligación de dar un airoso “salto peruano con patada” o sin ella.'"
      ]
     },
     "execution_count": 102,
     "metadata": {},
     "output_type": "execute_result"
    }
   ],
   "source": [
    "sentences[0]"
   ]
  },
  {
   "cell_type": "code",
   "execution_count": 103,
   "metadata": {},
   "outputs": [],
   "source": [
    "sentences_tokens = [word_tokenize(sent, language='spanish') for sent in sentences]"
   ]
  },
  {
   "cell_type": "code",
   "execution_count": 105,
   "metadata": {},
   "outputs": [],
   "source": [
    "sentences_lens = [len(sent_tokens) for sent_tokens in sentences_tokens]"
   ]
  },
  {
   "cell_type": "code",
   "execution_count": 119,
   "metadata": {},
   "outputs": [],
   "source": [
    "import numpy as np"
   ]
  },
  {
   "cell_type": "code",
   "execution_count": 120,
   "metadata": {},
   "outputs": [
    {
     "data": {
      "text/plain": [
       "42.35479115479116"
      ]
     },
     "execution_count": 120,
     "metadata": {},
     "output_type": "execute_result"
    }
   ],
   "source": [
    "np.mean(sentences_lens)"
   ]
  },
  {
   "cell_type": "code",
   "execution_count": 121,
   "metadata": {},
   "outputs": [
    {
     "data": {
      "text/plain": [
       "33.221554241697135"
      ]
     },
     "execution_count": 121,
     "metadata": {},
     "output_type": "execute_result"
    }
   ],
   "source": [
    "np.std(sentences_lens)"
   ]
  },
  {
   "cell_type": "code",
   "execution_count": 131,
   "metadata": {},
   "outputs": [
    {
     "data": {
      "text/plain": [
       "[25, 50, 75]"
      ]
     },
     "execution_count": 131,
     "metadata": {},
     "output_type": "execute_result"
    }
   ],
   "source": [
    "list(range(25,100,25))"
   ]
  },
  {
   "cell_type": "code",
   "execution_count": 133,
   "metadata": {},
   "outputs": [
    {
     "data": {
      "text/plain": [
       "array([ 20.,  34.,  55., 246.])"
      ]
     },
     "execution_count": 133,
     "metadata": {},
     "output_type": "execute_result"
    }
   ],
   "source": [
    "np.percentile(sentences_lens, q=range(25,101,25))"
   ]
  },
  {
   "cell_type": "code",
   "execution_count": 211,
   "metadata": {},
   "outputs": [
    {
     "data": {
      "text/plain": [
       "(array([0.04176904, 0.11302211, 0.19115479, 0.27665848, 0.37297297,\n",
       "        0.46388206, 0.54054054, 0.6034398 , 0.64717445, 0.70515971,\n",
       "        0.75577396, 0.79410319, 0.82506143, 0.85307125, 0.87960688,\n",
       "        0.8958231 , 0.90663391, 0.91498771, 0.92628993, 0.93660934,\n",
       "        0.94447174, 0.95135135, 0.95724816, 0.96609337, 0.96904177,\n",
       "        0.97199017, 0.97542998, 0.97690418, 0.97936118, 0.98230958,\n",
       "        0.98574939, 0.98820639, 0.98968059, 0.99115479, 0.99213759,\n",
       "        0.99213759, 0.99312039, 0.99410319, 0.995086  , 0.9955774 ,\n",
       "        0.9960688 , 0.9960688 , 0.9970516 , 0.9980344 , 0.9985258 ,\n",
       "        0.9985258 , 0.9985258 , 0.9990172 , 0.9995086 , 1.        ]),\n",
       " array([  2.  ,   6.88,  11.76,  16.64,  21.52,  26.4 ,  31.28,  36.16,\n",
       "         41.04,  45.92,  50.8 ,  55.68,  60.56,  65.44,  70.32,  75.2 ,\n",
       "         80.08,  84.96,  89.84,  94.72,  99.6 , 104.48, 109.36, 114.24,\n",
       "        119.12, 124.  , 128.88, 133.76, 138.64, 143.52, 148.4 , 153.28,\n",
       "        158.16, 163.04, 167.92, 172.8 , 177.68, 182.56, 187.44, 192.32,\n",
       "        197.2 , 202.08, 206.96, 211.84, 216.72, 221.6 , 226.48, 231.36,\n",
       "        236.24, 241.12, 246.  ]),\n",
       " [<matplotlib.patches.Polygon at 0x126a03520>])"
      ]
     },
     "execution_count": 211,
     "metadata": {},
     "output_type": "execute_result"
    },
    {
     "data": {
      "image/png": "[encoded data removed]",
      "text/plain": [
       "<Figure size 432x288 with 1 Axes>"
      ]
     },
     "metadata": {
      "needs_background": "light"
     },
     "output_type": "display_data"
    }
   ],
   "source": []
  },
  {
   "cell_type": "code",
   "execution_count": 249,
   "metadata": {},
   "outputs": [
    {
     "data": {
      "image/png": "[encoded data removed]",
      "text/plain": [
       "<Figure size 1080x360 with 2 Axes>"
      ]
     },
     "metadata": {
      "needs_background": "light"
     },
     "output_type": "display_data"
    }
   ],
   "source": [
    "fig1, ax1 = plt.subplots(figsize=(15, 5))\n",
    "\n",
    "n, array, patches = ax1.hist(sentences_lens, bins=50, label='Histogram')\n",
    "ax1.set_ylabel('Number of Sentences')\n",
    "ax1.set_xlabel('Number of Words')\n",
    "ax1.set_xticks(range(0, 250, 15))\n",
    "\n",
    "ax2 = ax1.twinx()  # instantiate a second axes that shares the same x-axis\n",
    "\n",
    "ax2.hist(sentences_lens, bins=50, density=True,\n",
    "         histtype='step', cumulative=True, facecolor='none', edgecolor='orange', \n",
    "         linewidth=1.2, label='Cumulative')\n",
    "ax2.set_ylabel('Cumulative Proportion of Sentences')\n",
    "\n",
    "plt.title('Sentence Lengths Histogram and Cumulative Histogram')\n",
    "plt.grid()\n",
    "\n",
    "fig.tight_layout() # otherwise the right y-label is slightly clipped\n",
    "plt.savefig('histograms.png', dpi=300)\n",
    "\n",
    "plt.show()"
   ]
  },
  {
   "cell_type": "code",
   "execution_count": null,
   "metadata": {},
   "outputs": [],
   "source": []
  }
 ],
 "metadata": {
  "kernelspec": {
   "display_name": "Python 3",
   "language": "python",
   "name": "python3"
  },
  "language_info": {
   "codemirror_mode": {
    "name": "ipython",
    "version": 3
   },
   "file_extension": ".py",
   "mimetype": "text/x-python",
   "name": "python",
   "nbconvert_exporter": "python",
   "pygments_lexer": "ipython3",
   "version": "3.9.5"
  }
 },
 "nbformat": 4,
 "nbformat_minor": 4
}
