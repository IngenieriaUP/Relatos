{
 "cells": [
  {
   "cell_type": "code",
   "execution_count": 99,
   "metadata": {},
   "outputs": [],
   "source": [
    "import numpy as np\n",
    "import pandas as pd\n",
    "import nltk\n",
    "from nltk.tokenize import sent_tokenize\n",
    "#nltk.download('punkt') # one time execution\n",
    "import re\n",
    "import unidecode\n",
    "from tqdm import tqdm"
   ]
  },
  {
   "cell_type": "code",
   "execution_count": 100,
   "metadata": {},
   "outputs": [
    {
     "data": {
      "text/html": [
       "<div>\n",
       "<style scoped>\n",
       "    .dataframe tbody tr th:only-of-type {\n",
       "        vertical-align: middle;\n",
       "    }\n",
       "\n",
       "    .dataframe tbody tr th {\n",
       "        vertical-align: top;\n",
       "    }\n",
       "\n",
       "    .dataframe thead th {\n",
       "        text-align: right;\n",
       "    }\n",
       "</style>\n",
       "<table border=\"1\" class=\"dataframe\">\n",
       "  <thead>\n",
       "    <tr style=\"text-align: right;\">\n",
       "      <th></th>\n",
       "      <th>Capitulo</th>\n",
       "      <th>Texto</th>\n",
       "    </tr>\n",
       "  </thead>\n",
       "  <tbody>\n",
       "    <tr>\n",
       "      <th>0</th>\n",
       "      <td>La Placita de la Recoleta \\n</td>\n",
       "      <td>LA PLACITA de la RECOLETA\\nA Francisco Mendoza...</td>\n",
       "    </tr>\n",
       "    <tr>\n",
       "      <th>1</th>\n",
       "      <td>La Plazuela de la Salud \\n</td>\n",
       "      <td>LA PLAZUELA de la SALUD\\nA Baltazar Caravedo y...</td>\n",
       "    </tr>\n",
       "    <tr>\n",
       "      <th>2</th>\n",
       "      <td>La Plazuela de San Carlos\\n</td>\n",
       "      <td>LA PLAZUELA de SAN CARLOS\\nSALIENDO DEL ANTIGU...</td>\n",
       "    </tr>\n",
       "    <tr>\n",
       "      <th>3</th>\n",
       "      <td>La Plazuela de Santa Catalina\\n</td>\n",
       "      <td>LA PLAZUELA de SANTA CATALINA\\nA Alfonso Espin...</td>\n",
       "    </tr>\n",
       "    <tr>\n",
       "      <th>4</th>\n",
       "      <td>La Plazuela de San Pedro \\n</td>\n",
       "      <td>LA PLAZUELA de SAN PEDRO\\nCURIOSA CALLE es en ...</td>\n",
       "    </tr>\n",
       "  </tbody>\n",
       "</table>\n",
       "</div>"
      ],
      "text/plain": [
       "                          Capitulo  \\\n",
       "0     La Placita de la Recoleta \\n   \n",
       "1       La Plazuela de la Salud \\n   \n",
       "2      La Plazuela de San Carlos\\n   \n",
       "3  La Plazuela de Santa Catalina\\n   \n",
       "4      La Plazuela de San Pedro \\n   \n",
       "\n",
       "                                               Texto  \n",
       "0  LA PLACITA de la RECOLETA\\nA Francisco Mendoza...  \n",
       "1  LA PLAZUELA de la SALUD\\nA Baltazar Caravedo y...  \n",
       "2  LA PLAZUELA de SAN CARLOS\\nSALIENDO DEL ANTIGU...  \n",
       "3  LA PLAZUELA de SANTA CATALINA\\nA Alfonso Espin...  \n",
       "4  LA PLAZUELA de SAN PEDRO\\nCURIOSA CALLE es en ...  "
      ]
     },
     "execution_count": 100,
     "metadata": {},
     "output_type": "execute_result"
    }
   ],
   "source": [
    "df=pd.read_excel('Prueba de relatos.xlsx')\n",
    "df.head()"
   ]
  },
  {
   "cell_type": "code",
   "execution_count": 102,
   "metadata": {},
   "outputs": [],
   "source": [
    "sentences = []\n",
    "#for s in df['Texto']:\n",
    "s=df['Texto'][0]\n",
    "sentences.append(sent_tokenize(s))"
   ]
  },
  {
   "cell_type": "code",
   "execution_count": 103,
   "metadata": {},
   "outputs": [],
   "source": [
    "# flatten the list\n",
    "#sentences = [y for x in sentences for y in x]\n",
    "sentences = [unidecode.unidecode(y) for x in sentences for y in x]\n",
    "# remove punctuations, numbers and special characters\n",
    "clean_sentences = pd.Series(sentences).str.replace(\"[^a-zA-Z]\", \" \")\n",
    "\n",
    "# make alphabets lowercase\n",
    "clean_sentences = [s.lower() for s in clean_sentences]"
   ]
  },
  {
   "cell_type": "code",
   "execution_count": null,
   "metadata": {},
   "outputs": [],
   "source": []
  },
  {
   "cell_type": "code",
   "execution_count": 104,
   "metadata": {},
   "outputs": [],
   "source": [
    "from nltk.corpus import stopwords\n",
    "stop_words = stopwords.words('spanish')"
   ]
  },
  {
   "cell_type": "code",
   "execution_count": 105,
   "metadata": {},
   "outputs": [],
   "source": [
    "def remove_stopwords(sen):\n",
    "    sen_new = \" \".join([i for i in sen if i not in stop_words])\n",
    "    return sen_new\n",
    "# remove stopwords from the sentences\n",
    "clean_sentences = [remove_stopwords(r.split()) for r in clean_sentences]"
   ]
  },
  {
   "cell_type": "code",
   "execution_count": 106,
   "metadata": {},
   "outputs": [],
   "source": [
    "cl=[]\n",
    "for i in clean_sentences:\n",
    "    p=i.split(' ')\n",
    "    p=' '.join(p)\n",
    "    p=re.sub(r'\\n','',p)\n",
    "    p=p.strip()\n",
    "    cl.append(p)"
   ]
  },
  {
   "cell_type": "code",
   "execution_count": 107,
   "metadata": {},
   "outputs": [
    {
     "name": "stderr",
     "output_type": "stream",
     "text": [
      "1000654it [01:41, 9839.13it/s] \n"
     ]
    }
   ],
   "source": [
    "word_embeddings = {}\n",
    "f = open('SBW-vectors-300-min5.txt', encoding='utf-8')\n",
    "for line in tqdm(f):\n",
    "    values = line.split()\n",
    "    word = values[0]\n",
    "    coefs = np.asarray(values[1:], dtype='float32')\n",
    "    word_embeddings[word] = coefs\n",
    "f.close()"
   ]
  },
  {
   "cell_type": "code",
   "execution_count": 108,
   "metadata": {},
   "outputs": [],
   "source": [
    "sentence_vectors = []\n",
    "for i in cl:\n",
    "    if len(i) != 0:\n",
    "        v = sum([word_embeddings.get(w, np.zeros((300,))) for w in i.split()])/(len(i.split())+0.001)\n",
    "    else:\n",
    "        v = np.zeros((300,))\n",
    "    sentence_vectors.append(v)"
   ]
  },
  {
   "cell_type": "code",
   "execution_count": 109,
   "metadata": {},
   "outputs": [],
   "source": [
    "sim_mat = np.zeros([len(sentences), len(sentences)])"
   ]
  },
  {
   "cell_type": "code",
   "execution_count": 110,
   "metadata": {},
   "outputs": [],
   "source": [
    "\n",
    "from sklearn.metrics.pairwise import cosine_similarity"
   ]
  },
  {
   "cell_type": "code",
   "execution_count": 111,
   "metadata": {},
   "outputs": [],
   "source": [
    "for i in range(len(sentences)):\n",
    "    for j in range(len(sentences)):\n",
    "        if i != j:\n",
    "            sim_mat[i][j] = cosine_similarity(sentence_vectors[i].reshape(1,300), sentence_vectors[j].reshape(1,300))[0,0]"
   ]
  },
  {
   "cell_type": "code",
   "execution_count": 112,
   "metadata": {},
   "outputs": [],
   "source": [
    "import networkx as nx\n",
    "\n",
    "nx_graph = nx.from_numpy_array(sim_mat)\n",
    "scores = nx.pagerank(nx_graph)\n",
    "ranked_sentences = sorted(((scores[i],s) for i,s in enumerate(sentences)), reverse=True)"
   ]
  },
  {
   "cell_type": "code",
   "execution_count": 114,
   "metadata": {},
   "outputs": [
    {
     "name": "stdout",
     "output_type": "stream",
     "text": [
      "LA PLACITA de la RECOLETA\n",
      "A Francisco Mendoza y Canaval\n",
      "SALIENDO DE LA CALLE DE BELEN, la mejor y mas aristocratica de las calles de la capital, residencia de las familias de buen tono: Soyer y Cabero, Alvarez Calderon, CanavalSoria, Alayza, Irribarren, etc., etc., entre las cuales se ha venido a colar, no se sabe como, una fabrica de cigarrillos, la del gordo judio aleman Cohen, propietario de las afamadas marcas \"Garibaldi\", \"Almirante Grau\" y \"Huascar\", y \"como quien se va\" a la exposicion, se llega a un trozo de pena colocado en la esquina a manera de guardacanton y sobre el que todos los chicos del barrio cada vez que pasan junto a el, tienen la ineludible obligacion de dar un airoso \"salto peruano con patada\" o sin ella.\n",
      "Un pasadizo a la izquierda lleva a la capilla espaciosa con palanganas media naranja y capulino y con recuerdos delicados que alguna limena antigua relata al instante; \"Don Bartolome, el fundador, quiso que la capilla se levantase en el mismo sitio en que sepultaron el cadaver de Fray Martin y muchas de nuestras amigas se disputaron regalarnos todo lo necesario: alfombras, melodio, candelabros, efigies y ornamentera bien provista de vestiduras y vasos sagrados...\"\n",
      "La siguiente casita tiene, por Pascua, en la ventana de reja, un gran nacimiento cuyos cerros que llegan al techo causan asombro en la chiquilleria.\n",
      "Contrasta con el profundo silencio de los bajos del Hospicio el ruido de las altas tertulias que en los altos, sobre el obscuro y solitario portalito ofrecen el General iglesista Rafael Ramirez y el Coronel Noya; algunos vecinos de la calle de la Amargura como don Francisco Garcia Calderon en cuya residencia el dia 22 de Febrero del 81, ciento catorce notables, vale decir, civilistas, eligieronlo presidente de la Republica; don Francisco de Paula Munoz, don Mariano Castro Zaldivar y el medico politico don Adan Melgar que pasa contando por milesima vez el asesinato de don Manuel Parco, deteniendose a ratos para explicarlo mejor, van a recogerse en sus casas y despues de un largo silencio turbado de vez en cuando por el pitazo del celador llamando a un superior o el rodar de algun coche que pasa camino de su corral, las sombras y el misterio invaden la placita hasta el siguiente dia...\n",
      "Cuando las sombras de la tarde comienzan a caer sobre la plazuela y se aparee rapidamente el farolero con su larga escalerita al hombro, sus paquetes de fosforos \"chalacos\" en el bolsillo del saco blanco y sus lustrosos pantalones de donde prende aquellos con suigeneris movimiento, encendiendo los faroles de gas, rompe en notas alegres el piano de la academia de baile de Pedro Fernandez; don Manuel Odria y Zalduondo inicia su paseo, de un extremo a otro de la calle, vestido de negro, con levita larga, luciendo brillosa cadena de pelo trenzado y las manos llevadas a la espalda; silenciosa y grave, \"na Pancha\" enciende el farol colgado en su puerta para anunciar la venta de champuz de leche y agrio, mazamorras morada y de cochino, manjarblanco, camote con dulce, tejas y dulce de membrillo; queda solo abierto el postigo del Hospicio y rosquetero corre pregonando su mercancia, farolito en mano:\n",
      "\"Caramanduca caliente,\n",
      "Para rechinar los dientes\n",
      "!Revolucion caliente!\n",
      "Al pasar por ella se oye el canto de unos negros \"mistrels\" transeuntes de pura casualidad en Lima, a quienes al pasar atrapo el viejo, que dice:\n",
      "\"Que me voy a Taboga\n",
      "Si nana\n",
      "Con los remo de popa\n",
      "Si nana\n",
      "Chumbay, pobre de mi\n",
      "Chumbay, amor pa ti\n",
      "Mientras que al lado en el largo callejon de \"Las Pulgas\" se oponen a los negros marineros los negros criollos cantando:\n",
      "\"Yo tengo un chiquitito\n",
      "Que se llama Nicolas,\n",
      " Tan chiquito y tan gordito\n",
      "Se parece a su papa,\n",
      "Y si quieres verlo\n",
      "Ven a Lima y lo veras\"\n",
      "O sino:\n",
      "\"El mes de febrero \n",
      "Se casa Montero\n",
      "Con una senora\n",
      "De gorrasombrero.\n"
     ]
    }
   ],
   "source": [
    "\n",
    "# Specify number of sentences to form the summary\n",
    "sn = 5\n",
    "# Generate summary\n",
    "for i in range(sn):\n",
    "      print(ranked_sentences[i][1])"
   ]
  },
  {
   "cell_type": "code",
   "execution_count": null,
   "metadata": {},
   "outputs": [],
   "source": []
  },
  {
   "cell_type": "code",
   "execution_count": null,
   "metadata": {},
   "outputs": [],
   "source": []
  }
 ],
 "metadata": {
  "kernelspec": {
   "display_name": "Python 3",
   "language": "python",
   "name": "python3"
  },
  "language_info": {
   "codemirror_mode": {
    "name": "ipython",
    "version": 3
   },
   "file_extension": ".py",
   "mimetype": "text/x-python",
   "name": "python",
   "nbconvert_exporter": "python",
   "pygments_lexer": "ipython3",
   "version": "3.7.1"
  }
 },
 "nbformat": 4,
 "nbformat_minor": 2
}
